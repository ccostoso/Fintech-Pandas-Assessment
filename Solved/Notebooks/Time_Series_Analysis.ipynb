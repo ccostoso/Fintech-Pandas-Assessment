{
 "cells": [
  {
   "cell_type": "markdown",
   "id": "9562ea46-538c-48c9-9131-461fac210f08",
   "metadata": {},
   "source": [
    "# Introducting Time Series Analysis"
   ]
  },
  {
   "cell_type": "markdown",
   "id": "3f189176-85ca-4917-8a34-edf6adf3fbd6",
   "metadata": {},
   "source": [
    "Today, we'll learn about a core skill in any FinTech professional's toolbox: analyzing a time series DataFrame using the Pandas library!"
   ]
  },
  {
   "cell_type": "code",
   "execution_count": 74,
   "id": "565da362-60d6-4ce0-af2e-dac3d36a1a85",
   "metadata": {},
   "outputs": [],
   "source": [
    "# Let's import pandas with the common alias as pd, and turn of \"Chained Assignment\" warnings\n",
    "import pandas as pd\n",
    "pd.set_option('mode.chained_assignment', None)\n",
    "\n",
    "# Let's import the Path() method so we can bring in our CSV file\n",
    "from pathlib import Path"
   ]
  },
  {
   "cell_type": "markdown",
   "id": "7b1a9b68-c445-4170-979a-8cbf630ebe10",
   "metadata": {},
   "source": [
    "## Reading our CSV files"
   ]
  },
  {
   "cell_type": "code",
   "execution_count": 75,
   "id": "0688eb69-9de6-45f1-b247-30f9e060f0b2",
   "metadata": {},
   "outputs": [
    {
     "data": {
      "text/html": [
       "<div>\n",
       "<style scoped>\n",
       "    .dataframe tbody tr th:only-of-type {\n",
       "        vertical-align: middle;\n",
       "    }\n",
       "\n",
       "    .dataframe tbody tr th {\n",
       "        vertical-align: top;\n",
       "    }\n",
       "\n",
       "    .dataframe thead th {\n",
       "        text-align: right;\n",
       "    }\n",
       "</style>\n",
       "<table border=\"1\" class=\"dataframe\">\n",
       "  <thead>\n",
       "    <tr style=\"text-align: right;\">\n",
       "      <th></th>\n",
       "      <th>Open</th>\n",
       "      <th>High</th>\n",
       "      <th>Low</th>\n",
       "      <th>Close</th>\n",
       "      <th>Adj Close</th>\n",
       "      <th>Volume</th>\n",
       "    </tr>\n",
       "    <tr>\n",
       "      <th>Date</th>\n",
       "      <th></th>\n",
       "      <th></th>\n",
       "      <th></th>\n",
       "      <th></th>\n",
       "      <th></th>\n",
       "      <th></th>\n",
       "    </tr>\n",
       "  </thead>\n",
       "  <tbody>\n",
       "    <tr>\n",
       "      <th>2016-09-06</th>\n",
       "      <td>773.450012</td>\n",
       "      <td>782.000000</td>\n",
       "      <td>771.000000</td>\n",
       "      <td>780.080017</td>\n",
       "      <td>780.080017</td>\n",
       "      <td>1442800.0</td>\n",
       "    </tr>\n",
       "    <tr>\n",
       "      <th>2016-09-07</th>\n",
       "      <td>780.000000</td>\n",
       "      <td>782.729980</td>\n",
       "      <td>776.200012</td>\n",
       "      <td>780.349976</td>\n",
       "      <td>780.349976</td>\n",
       "      <td>893700.0</td>\n",
       "    </tr>\n",
       "    <tr>\n",
       "      <th>2016-09-08</th>\n",
       "      <td>778.590027</td>\n",
       "      <td>780.349976</td>\n",
       "      <td>773.580017</td>\n",
       "      <td>775.320007</td>\n",
       "      <td>775.320007</td>\n",
       "      <td>1270300.0</td>\n",
       "    </tr>\n",
       "    <tr>\n",
       "      <th>2016-09-09</th>\n",
       "      <td>770.099976</td>\n",
       "      <td>773.244995</td>\n",
       "      <td>759.659973</td>\n",
       "      <td>759.659973</td>\n",
       "      <td>759.659973</td>\n",
       "      <td>1885500.0</td>\n",
       "    </tr>\n",
       "    <tr>\n",
       "      <th>2016-09-12</th>\n",
       "      <td>755.130005</td>\n",
       "      <td>770.289978</td>\n",
       "      <td>754.000000</td>\n",
       "      <td>769.020020</td>\n",
       "      <td>769.020020</td>\n",
       "      <td>1311000.0</td>\n",
       "    </tr>\n",
       "    <tr>\n",
       "      <th>2016-09-13</th>\n",
       "      <td>764.479980</td>\n",
       "      <td>766.219971</td>\n",
       "      <td>755.799988</td>\n",
       "      <td>759.690002</td>\n",
       "      <td>759.690002</td>\n",
       "      <td>1395000.0</td>\n",
       "    </tr>\n",
       "    <tr>\n",
       "      <th>2016-09-14</th>\n",
       "      <td>759.609985</td>\n",
       "      <td>767.679993</td>\n",
       "      <td>759.109985</td>\n",
       "      <td>762.489990</td>\n",
       "      <td>762.489990</td>\n",
       "      <td>1087400.0</td>\n",
       "    </tr>\n",
       "    <tr>\n",
       "      <th>2016-09-15</th>\n",
       "      <td>762.890015</td>\n",
       "      <td>773.799988</td>\n",
       "      <td>759.960022</td>\n",
       "      <td>771.760010</td>\n",
       "      <td>771.760010</td>\n",
       "      <td>1305100.0</td>\n",
       "    </tr>\n",
       "    <tr>\n",
       "      <th>2016-09-16</th>\n",
       "      <td>769.750000</td>\n",
       "      <td>769.750000</td>\n",
       "      <td>764.659973</td>\n",
       "      <td>768.880005</td>\n",
       "      <td>768.880005</td>\n",
       "      <td>2049300.0</td>\n",
       "    </tr>\n",
       "    <tr>\n",
       "      <th>2016-09-19</th>\n",
       "      <td>772.419983</td>\n",
       "      <td>774.000000</td>\n",
       "      <td>764.440979</td>\n",
       "      <td>765.700012</td>\n",
       "      <td>765.700012</td>\n",
       "      <td>1172800.0</td>\n",
       "    </tr>\n",
       "  </tbody>\n",
       "</table>\n",
       "</div>"
      ],
      "text/plain": [
       "                  Open        High         Low       Close   Adj Close  \\\n",
       "Date                                                                     \n",
       "2016-09-06  773.450012  782.000000  771.000000  780.080017  780.080017   \n",
       "2016-09-07  780.000000  782.729980  776.200012  780.349976  780.349976   \n",
       "2016-09-08  778.590027  780.349976  773.580017  775.320007  775.320007   \n",
       "2016-09-09  770.099976  773.244995  759.659973  759.659973  759.659973   \n",
       "2016-09-12  755.130005  770.289978  754.000000  769.020020  769.020020   \n",
       "2016-09-13  764.479980  766.219971  755.799988  759.690002  759.690002   \n",
       "2016-09-14  759.609985  767.679993  759.109985  762.489990  762.489990   \n",
       "2016-09-15  762.890015  773.799988  759.960022  771.760010  771.760010   \n",
       "2016-09-16  769.750000  769.750000  764.659973  768.880005  768.880005   \n",
       "2016-09-19  772.419983  774.000000  764.440979  765.700012  765.700012   \n",
       "\n",
       "               Volume  \n",
       "Date                   \n",
       "2016-09-06  1442800.0  \n",
       "2016-09-07   893700.0  \n",
       "2016-09-08  1270300.0  \n",
       "2016-09-09  1885500.0  \n",
       "2016-09-12  1311000.0  \n",
       "2016-09-13  1395000.0  \n",
       "2016-09-14  1087400.0  \n",
       "2016-09-15  1305100.0  \n",
       "2016-09-16  2049300.0  \n",
       "2016-09-19  1172800.0  "
      ]
     },
     "execution_count": 75,
     "metadata": {},
     "output_type": "execute_result"
    }
   ],
   "source": [
    "# Let's read our CSV file!\n",
    "csv_path = Path('../Datasets/GOOG.csv')\n",
    "goog_df = pd.read_csv(csv_path,\n",
    "                     index_col=\"Date\",\n",
    "                     parse_dates=True,\n",
    "                     infer_datetime_format=True\n",
    "                     )\n",
    "\n",
    "# Let's look at the first 10 entries in goog_df\n",
    "goog_df.head(10)"
   ]
  },
  {
   "cell_type": "code",
   "execution_count": 76,
   "id": "bd63f73c-0c25-470d-bbb4-bdd2a462fa80",
   "metadata": {},
   "outputs": [
    {
     "data": {
      "text/html": [
       "<div>\n",
       "<style scoped>\n",
       "    .dataframe tbody tr th:only-of-type {\n",
       "        vertical-align: middle;\n",
       "    }\n",
       "\n",
       "    .dataframe tbody tr th {\n",
       "        vertical-align: top;\n",
       "    }\n",
       "\n",
       "    .dataframe thead th {\n",
       "        text-align: right;\n",
       "    }\n",
       "</style>\n",
       "<table border=\"1\" class=\"dataframe\">\n",
       "  <thead>\n",
       "    <tr style=\"text-align: right;\">\n",
       "      <th></th>\n",
       "      <th>Open</th>\n",
       "      <th>High</th>\n",
       "      <th>Low</th>\n",
       "      <th>Close</th>\n",
       "      <th>Adj Close</th>\n",
       "      <th>Volume</th>\n",
       "    </tr>\n",
       "    <tr>\n",
       "      <th>Date</th>\n",
       "      <th></th>\n",
       "      <th></th>\n",
       "      <th></th>\n",
       "      <th></th>\n",
       "      <th></th>\n",
       "      <th></th>\n",
       "    </tr>\n",
       "  </thead>\n",
       "  <tbody>\n",
       "    <tr>\n",
       "      <th>2021-09-02</th>\n",
       "      <td>2918.989990</td>\n",
       "      <td>2926.500000</td>\n",
       "      <td>NaN</td>\n",
       "      <td>2884.379883</td>\n",
       "      <td>2884.379883</td>\n",
       "      <td>1092200.0</td>\n",
       "    </tr>\n",
       "    <tr>\n",
       "      <th>2021-09-03</th>\n",
       "      <td>2882.919922</td>\n",
       "      <td>2907.540039</td>\n",
       "      <td>2870.100098</td>\n",
       "      <td>2895.500000</td>\n",
       "      <td>2895.500000</td>\n",
       "      <td>955200.0</td>\n",
       "    </tr>\n",
       "  </tbody>\n",
       "</table>\n",
       "</div>"
      ],
      "text/plain": [
       "                   Open         High          Low        Close    Adj Close  \\\n",
       "Date                                                                          \n",
       "2021-09-02  2918.989990  2926.500000          NaN  2884.379883  2884.379883   \n",
       "2021-09-03  2882.919922  2907.540039  2870.100098  2895.500000  2895.500000   \n",
       "\n",
       "               Volume  \n",
       "Date                   \n",
       "2021-09-02  1092200.0  \n",
       "2021-09-03   955200.0  "
      ]
     },
     "execution_count": 76,
     "metadata": {},
     "output_type": "execute_result"
    }
   ],
   "source": [
    "# And the last 2\n",
    "goog_df.tail(2)"
   ]
  },
  {
   "cell_type": "code",
   "execution_count": 77,
   "id": "11e6aaaf-049c-4794-ad89-fa14c6ba6926",
   "metadata": {},
   "outputs": [
    {
     "data": {
      "text/plain": [
       "Date\n",
       "2020-12-01    1824.829956\n",
       "2020-12-02    1835.650024\n",
       "2020-12-03    1847.199951\n",
       "2020-12-04    1833.160034\n",
       "2020-12-07    1832.369995\n",
       "2020-12-08    1821.900024\n",
       "2020-12-09    1834.270020\n",
       "2020-12-10    1781.310059\n",
       "2020-12-11    1784.449951\n",
       "2020-12-14    1797.390015\n",
       "2020-12-15    1771.420044\n",
       "2020-12-16    1773.000000\n",
       "2020-12-17    1771.784058\n",
       "2020-12-18    1755.109985\n",
       "2020-12-21    1740.849976\n",
       "2020-12-22    1737.405029\n",
       "2020-12-23    1747.989990\n",
       "2020-12-24    1746.000000\n",
       "2020-12-28    1790.728027\n",
       "2020-12-29    1792.439941\n",
       "2020-12-30    1765.094971\n",
       "2020-12-31    1758.930054\n",
       "2021-01-04    1760.650024\n",
       "2021-01-05    1747.670044\n",
       "2021-01-06    1748.000000\n",
       "2021-01-07    1788.400024\n",
       "2021-01-08    1809.839966\n",
       "2021-01-11    1794.314941\n",
       "2021-01-12    1778.040039\n",
       "2021-01-13    1765.035034\n",
       "2021-01-14    1775.010010\n",
       "2021-01-15    1756.000000\n",
       "2021-01-19    1809.275024\n",
       "2021-01-20    1903.709961\n",
       "2021-01-21    1934.859985\n",
       "2021-01-22    1910.949951\n",
       "2021-01-25    1929.579956\n",
       "2021-01-26    1925.000000\n",
       "2021-01-27    1890.000000\n",
       "2021-01-28    1898.829956\n",
       "2021-01-29    1857.280029\n",
       "Name: High, dtype: float64"
      ]
     },
     "execution_count": 77,
     "metadata": {},
     "output_type": "execute_result"
    }
   ],
   "source": [
    "# Let's check out the entries of December 1st, 2020 through January 29th, 2021 in our High column with loc[]\n",
    "goog_df.loc[\"2020-12-01\":\"2021-01-29\", \"High\"]"
   ]
  },
  {
   "cell_type": "code",
   "execution_count": 78,
   "id": "c348ea78-b604-41f9-a547-af9f7482580b",
   "metadata": {},
   "outputs": [
    {
     "data": {
      "text/plain": [
       "Open         773.450012\n",
       "High         782.000000\n",
       "Low          771.000000\n",
       "Close        780.080017\n",
       "Adj Close    780.080017\n",
       "Name: 2016-09-06 00:00:00, dtype: float64"
      ]
     },
     "execution_count": 78,
     "metadata": {},
     "output_type": "execute_result"
    }
   ],
   "source": [
    "# Let's use iloc[] to examine the first row of our DataFrame.\n",
    "goog_df.iloc[0].head()"
   ]
  },
  {
   "cell_type": "code",
   "execution_count": 79,
   "id": "6c39ac7b-1bd7-4984-9849-d408dfa442eb",
   "metadata": {},
   "outputs": [
    {
     "data": {
      "text/html": [
       "<div>\n",
       "<style scoped>\n",
       "    .dataframe tbody tr th:only-of-type {\n",
       "        vertical-align: middle;\n",
       "    }\n",
       "\n",
       "    .dataframe tbody tr th {\n",
       "        vertical-align: top;\n",
       "    }\n",
       "\n",
       "    .dataframe thead th {\n",
       "        text-align: right;\n",
       "    }\n",
       "</style>\n",
       "<table border=\"1\" class=\"dataframe\">\n",
       "  <thead>\n",
       "    <tr style=\"text-align: right;\">\n",
       "      <th></th>\n",
       "      <th>Open</th>\n",
       "      <th>High</th>\n",
       "      <th>Low</th>\n",
       "      <th>Close</th>\n",
       "      <th>Adj Close</th>\n",
       "      <th>Volume</th>\n",
       "    </tr>\n",
       "    <tr>\n",
       "      <th>Date</th>\n",
       "      <th></th>\n",
       "      <th></th>\n",
       "      <th></th>\n",
       "      <th></th>\n",
       "      <th></th>\n",
       "      <th></th>\n",
       "    </tr>\n",
       "  </thead>\n",
       "  <tbody>\n",
       "    <tr>\n",
       "      <th>2020-01-02</th>\n",
       "      <td>1341.550049</td>\n",
       "      <td>1368.140015</td>\n",
       "      <td>1341.550049</td>\n",
       "      <td>1367.369995</td>\n",
       "      <td>1367.369995</td>\n",
       "      <td>1406600.0</td>\n",
       "    </tr>\n",
       "    <tr>\n",
       "      <th>2020-01-03</th>\n",
       "      <td>1347.859985</td>\n",
       "      <td>1372.500000</td>\n",
       "      <td>1345.543945</td>\n",
       "      <td>1360.660034</td>\n",
       "      <td>1360.660034</td>\n",
       "      <td>1186400.0</td>\n",
       "    </tr>\n",
       "    <tr>\n",
       "      <th>2020-01-06</th>\n",
       "      <td>1350.000000</td>\n",
       "      <td>1396.500000</td>\n",
       "      <td>1350.000000</td>\n",
       "      <td>1394.209961</td>\n",
       "      <td>1394.209961</td>\n",
       "      <td>1732300.0</td>\n",
       "    </tr>\n",
       "    <tr>\n",
       "      <th>2020-01-07</th>\n",
       "      <td>1397.939941</td>\n",
       "      <td>1402.989990</td>\n",
       "      <td>1390.380005</td>\n",
       "      <td>1393.339966</td>\n",
       "      <td>1393.339966</td>\n",
       "      <td>1502700.0</td>\n",
       "    </tr>\n",
       "    <tr>\n",
       "      <th>2020-01-08</th>\n",
       "      <td>1392.079956</td>\n",
       "      <td>1411.579956</td>\n",
       "      <td>1390.839966</td>\n",
       "      <td>1404.319946</td>\n",
       "      <td>1404.319946</td>\n",
       "      <td>1528000.0</td>\n",
       "    </tr>\n",
       "    <tr>\n",
       "      <th>...</th>\n",
       "      <td>...</td>\n",
       "      <td>...</td>\n",
       "      <td>...</td>\n",
       "      <td>...</td>\n",
       "      <td>...</td>\n",
       "      <td>...</td>\n",
       "    </tr>\n",
       "    <tr>\n",
       "      <th>2021-08-30</th>\n",
       "      <td>2894.090088</td>\n",
       "      <td>2929.790039</td>\n",
       "      <td>2892.000000</td>\n",
       "      <td>2909.389893</td>\n",
       "      <td>2909.389893</td>\n",
       "      <td>845800.0</td>\n",
       "    </tr>\n",
       "    <tr>\n",
       "      <th>2021-08-31</th>\n",
       "      <td>NaN</td>\n",
       "      <td>2922.239990</td>\n",
       "      <td>2900.000000</td>\n",
       "      <td>2909.239990</td>\n",
       "      <td>2909.239990</td>\n",
       "      <td>1337800.0</td>\n",
       "    </tr>\n",
       "    <tr>\n",
       "      <th>2021-09-01</th>\n",
       "      <td>2913.000000</td>\n",
       "      <td>2936.409912</td>\n",
       "      <td>2912.290039</td>\n",
       "      <td>2916.840088</td>\n",
       "      <td>2916.840088</td>\n",
       "      <td>791200.0</td>\n",
       "    </tr>\n",
       "    <tr>\n",
       "      <th>2021-09-02</th>\n",
       "      <td>2918.989990</td>\n",
       "      <td>2926.500000</td>\n",
       "      <td>NaN</td>\n",
       "      <td>2884.379883</td>\n",
       "      <td>2884.379883</td>\n",
       "      <td>1092200.0</td>\n",
       "    </tr>\n",
       "    <tr>\n",
       "      <th>2021-09-03</th>\n",
       "      <td>2882.919922</td>\n",
       "      <td>2907.540039</td>\n",
       "      <td>2870.100098</td>\n",
       "      <td>2895.500000</td>\n",
       "      <td>2895.500000</td>\n",
       "      <td>955200.0</td>\n",
       "    </tr>\n",
       "  </tbody>\n",
       "</table>\n",
       "<p>423 rows × 6 columns</p>\n",
       "</div>"
      ],
      "text/plain": [
       "                   Open         High          Low        Close    Adj Close  \\\n",
       "Date                                                                          \n",
       "2020-01-02  1341.550049  1368.140015  1341.550049  1367.369995  1367.369995   \n",
       "2020-01-03  1347.859985  1372.500000  1345.543945  1360.660034  1360.660034   \n",
       "2020-01-06  1350.000000  1396.500000  1350.000000  1394.209961  1394.209961   \n",
       "2020-01-07  1397.939941  1402.989990  1390.380005  1393.339966  1393.339966   \n",
       "2020-01-08  1392.079956  1411.579956  1390.839966  1404.319946  1404.319946   \n",
       "...                 ...          ...          ...          ...          ...   \n",
       "2021-08-30  2894.090088  2929.790039  2892.000000  2909.389893  2909.389893   \n",
       "2021-08-31          NaN  2922.239990  2900.000000  2909.239990  2909.239990   \n",
       "2021-09-01  2913.000000  2936.409912  2912.290039  2916.840088  2916.840088   \n",
       "2021-09-02  2918.989990  2926.500000          NaN  2884.379883  2884.379883   \n",
       "2021-09-03  2882.919922  2907.540039  2870.100098  2895.500000  2895.500000   \n",
       "\n",
       "               Volume  \n",
       "Date                   \n",
       "2020-01-02  1406600.0  \n",
       "2020-01-03  1186400.0  \n",
       "2020-01-06  1732300.0  \n",
       "2020-01-07  1502700.0  \n",
       "2020-01-08  1528000.0  \n",
       "...               ...  \n",
       "2021-08-30   845800.0  \n",
       "2021-08-31  1337800.0  \n",
       "2021-09-01   791200.0  \n",
       "2021-09-02  1092200.0  \n",
       "2021-09-03   955200.0  \n",
       "\n",
       "[423 rows x 6 columns]"
      ]
     },
     "execution_count": 79,
     "metadata": {},
     "output_type": "execute_result"
    }
   ],
   "source": [
    "# Let's use loc[] to examine stock prices from January 2020 onward.\n",
    "goog_df_from_2020 = goog_df.loc[\"2020-01-01\":]\n",
    "\n",
    "goog_df_from_2020"
   ]
  },
  {
   "cell_type": "code",
   "execution_count": 80,
   "id": "e4a06303-482c-4916-81db-7c682211ac65",
   "metadata": {},
   "outputs": [
    {
     "data": {
      "text/html": [
       "<div>\n",
       "<style scoped>\n",
       "    .dataframe tbody tr th:only-of-type {\n",
       "        vertical-align: middle;\n",
       "    }\n",
       "\n",
       "    .dataframe tbody tr th {\n",
       "        vertical-align: top;\n",
       "    }\n",
       "\n",
       "    .dataframe thead th {\n",
       "        text-align: right;\n",
       "    }\n",
       "</style>\n",
       "<table border=\"1\" class=\"dataframe\">\n",
       "  <thead>\n",
       "    <tr style=\"text-align: right;\">\n",
       "      <th></th>\n",
       "      <th>Open</th>\n",
       "      <th>High</th>\n",
       "      <th>Low</th>\n",
       "      <th>Close</th>\n",
       "      <th>Adj Close</th>\n",
       "      <th>Volume</th>\n",
       "    </tr>\n",
       "  </thead>\n",
       "  <tbody>\n",
       "    <tr>\n",
       "      <th>count</th>\n",
       "      <td>417.000000</td>\n",
       "      <td>418.000000</td>\n",
       "      <td>417.000000</td>\n",
       "      <td>417.000000</td>\n",
       "      <td>420.000000</td>\n",
       "      <td>4.170000e+02</td>\n",
       "    </tr>\n",
       "    <tr>\n",
       "      <th>mean</th>\n",
       "      <td>1815.665369</td>\n",
       "      <td>1837.682076</td>\n",
       "      <td>1797.138131</td>\n",
       "      <td>1818.238450</td>\n",
       "      <td>1820.379652</td>\n",
       "      <td>1.670512e+06</td>\n",
       "    </tr>\n",
       "    <tr>\n",
       "      <th>std</th>\n",
       "      <td>478.304960</td>\n",
       "      <td>478.868724</td>\n",
       "      <td>478.749000</td>\n",
       "      <td>478.839304</td>\n",
       "      <td>480.346132</td>\n",
       "      <td>7.329217e+05</td>\n",
       "    </tr>\n",
       "    <tr>\n",
       "      <th>min</th>\n",
       "      <td>1056.510010</td>\n",
       "      <td>1071.319946</td>\n",
       "      <td>1013.536011</td>\n",
       "      <td>1056.619995</td>\n",
       "      <td>1056.619995</td>\n",
       "      <td>3.468000e+05</td>\n",
       "    </tr>\n",
       "    <tr>\n",
       "      <th>25%</th>\n",
       "      <td>1449.160034</td>\n",
       "      <td>1466.072540</td>\n",
       "      <td>1431.380005</td>\n",
       "      <td>1451.859985</td>\n",
       "      <td>1451.819976</td>\n",
       "      <td>1.205400e+06</td>\n",
       "    </tr>\n",
       "    <tr>\n",
       "      <th>50%</th>\n",
       "      <td>1672.109985</td>\n",
       "      <td>1698.356994</td>\n",
       "      <td>1630.750000</td>\n",
       "      <td>1652.380005</td>\n",
       "      <td>1656.544983</td>\n",
       "      <td>1.499000e+06</td>\n",
       "    </tr>\n",
       "    <tr>\n",
       "      <th>75%</th>\n",
       "      <td>2152.939941</td>\n",
       "      <td>2216.152527</td>\n",
       "      <td>2104.360107</td>\n",
       "      <td>2224.750000</td>\n",
       "      <td>2224.950012</td>\n",
       "      <td>1.913300e+06</td>\n",
       "    </tr>\n",
       "    <tr>\n",
       "      <th>max</th>\n",
       "      <td>2918.989990</td>\n",
       "      <td>2936.409912</td>\n",
       "      <td>2912.290039</td>\n",
       "      <td>2916.840088</td>\n",
       "      <td>2916.840088</td>\n",
       "      <td>4.329100e+06</td>\n",
       "    </tr>\n",
       "  </tbody>\n",
       "</table>\n",
       "</div>"
      ],
      "text/plain": [
       "              Open         High          Low        Close    Adj Close  \\\n",
       "count   417.000000   418.000000   417.000000   417.000000   420.000000   \n",
       "mean   1815.665369  1837.682076  1797.138131  1818.238450  1820.379652   \n",
       "std     478.304960   478.868724   478.749000   478.839304   480.346132   \n",
       "min    1056.510010  1071.319946  1013.536011  1056.619995  1056.619995   \n",
       "25%    1449.160034  1466.072540  1431.380005  1451.859985  1451.819976   \n",
       "50%    1672.109985  1698.356994  1630.750000  1652.380005  1656.544983   \n",
       "75%    2152.939941  2216.152527  2104.360107  2224.750000  2224.950012   \n",
       "max    2918.989990  2936.409912  2912.290039  2916.840088  2916.840088   \n",
       "\n",
       "             Volume  \n",
       "count  4.170000e+02  \n",
       "mean   1.670512e+06  \n",
       "std    7.329217e+05  \n",
       "min    3.468000e+05  \n",
       "25%    1.205400e+06  \n",
       "50%    1.499000e+06  \n",
       "75%    1.913300e+06  \n",
       "max    4.329100e+06  "
      ]
     },
     "execution_count": 80,
     "metadata": {},
     "output_type": "execute_result"
    }
   ],
   "source": [
    "# Let's check out some statistics about our goog_df_from_2020 DataFrame using describe()\n",
    "goog_df_from_2020.describe()"
   ]
  },
  {
   "cell_type": "code",
   "execution_count": 81,
   "id": "239cf22e-b652-422c-86ce-d0bea9976dfe",
   "metadata": {},
   "outputs": [
    {
     "data": {
      "text/html": [
       "<div>\n",
       "<style scoped>\n",
       "    .dataframe tbody tr th:only-of-type {\n",
       "        vertical-align: middle;\n",
       "    }\n",
       "\n",
       "    .dataframe tbody tr th {\n",
       "        vertical-align: top;\n",
       "    }\n",
       "\n",
       "    .dataframe thead th {\n",
       "        text-align: right;\n",
       "    }\n",
       "</style>\n",
       "<table border=\"1\" class=\"dataframe\">\n",
       "  <thead>\n",
       "    <tr style=\"text-align: right;\">\n",
       "      <th></th>\n",
       "      <th>Open</th>\n",
       "      <th>High</th>\n",
       "      <th>Low</th>\n",
       "      <th>Close</th>\n",
       "    </tr>\n",
       "  </thead>\n",
       "  <tbody>\n",
       "    <tr>\n",
       "      <th>count</th>\n",
       "      <td>417.000000</td>\n",
       "      <td>418.000000</td>\n",
       "      <td>417.000000</td>\n",
       "      <td>417.000000</td>\n",
       "    </tr>\n",
       "    <tr>\n",
       "      <th>mean</th>\n",
       "      <td>1815.665369</td>\n",
       "      <td>1837.682076</td>\n",
       "      <td>1797.138131</td>\n",
       "      <td>1818.238450</td>\n",
       "    </tr>\n",
       "    <tr>\n",
       "      <th>std</th>\n",
       "      <td>478.304960</td>\n",
       "      <td>478.868724</td>\n",
       "      <td>478.749000</td>\n",
       "      <td>478.839304</td>\n",
       "    </tr>\n",
       "    <tr>\n",
       "      <th>min</th>\n",
       "      <td>1056.510010</td>\n",
       "      <td>1071.319946</td>\n",
       "      <td>1013.536011</td>\n",
       "      <td>1056.619995</td>\n",
       "    </tr>\n",
       "    <tr>\n",
       "      <th>25%</th>\n",
       "      <td>1449.160034</td>\n",
       "      <td>1466.072540</td>\n",
       "      <td>1431.380005</td>\n",
       "      <td>1451.859985</td>\n",
       "    </tr>\n",
       "    <tr>\n",
       "      <th>50%</th>\n",
       "      <td>1672.109985</td>\n",
       "      <td>1698.356994</td>\n",
       "      <td>1630.750000</td>\n",
       "      <td>1652.380005</td>\n",
       "    </tr>\n",
       "    <tr>\n",
       "      <th>75%</th>\n",
       "      <td>2152.939941</td>\n",
       "      <td>2216.152527</td>\n",
       "      <td>2104.360107</td>\n",
       "      <td>2224.750000</td>\n",
       "    </tr>\n",
       "    <tr>\n",
       "      <th>max</th>\n",
       "      <td>2918.989990</td>\n",
       "      <td>2936.409912</td>\n",
       "      <td>2912.290039</td>\n",
       "      <td>2916.840088</td>\n",
       "    </tr>\n",
       "  </tbody>\n",
       "</table>\n",
       "</div>"
      ],
      "text/plain": [
       "              Open         High          Low        Close\n",
       "count   417.000000   418.000000   417.000000   417.000000\n",
       "mean   1815.665369  1837.682076  1797.138131  1818.238450\n",
       "std     478.304960   478.868724   478.749000   478.839304\n",
       "min    1056.510010  1071.319946  1013.536011  1056.619995\n",
       "25%    1449.160034  1466.072540  1431.380005  1451.859985\n",
       "50%    1672.109985  1698.356994  1630.750000  1652.380005\n",
       "75%    2152.939941  2216.152527  2104.360107  2224.750000\n",
       "max    2918.989990  2936.409912  2912.290039  2916.840088"
      ]
     },
     "execution_count": 81,
     "metadata": {},
     "output_type": "execute_result"
    }
   ],
   "source": [
    "# Let's check out some statistics about our goog_df_from_2020 DataFrame using describe(), \n",
    "# only looking at columns between \"Open\" and \"Close\"\n",
    "goog_df_from_2020.loc[:, \"Open\":\"Close\"].describe()"
   ]
  },
  {
   "cell_type": "markdown",
   "id": "24b834f4-7cc1-488a-af91-202c918e59a3",
   "metadata": {},
   "source": [
    "## Trimming our DataFrames"
   ]
  },
  {
   "cell_type": "code",
   "execution_count": 82,
   "id": "1dc37905-6f3a-49e5-b7ca-2b9f5e27e887",
   "metadata": {},
   "outputs": [
    {
     "data": {
      "text/plain": [
       "False    417\n",
       "True       6\n",
       "dtype: int64"
      ]
     },
     "execution_count": 82,
     "metadata": {},
     "output_type": "execute_result"
    }
   ],
   "source": [
    "# How many times is Close price different from Adj Close price?\n",
    "goog_2020_close_adjust_diff = goog_df_from_2020[\"Close\"] != goog_df_from_2020[\"Adj Close\"]\n",
    "\n",
    "goog_2020_close_adjust_diff.value_counts()"
   ]
  },
  {
   "cell_type": "code",
   "execution_count": 83,
   "id": "adc5a5da-73b1-4dc0-939a-f49255d41fa0",
   "metadata": {},
   "outputs": [
    {
     "data": {
      "text/html": [
       "<div>\n",
       "<style scoped>\n",
       "    .dataframe tbody tr th:only-of-type {\n",
       "        vertical-align: middle;\n",
       "    }\n",
       "\n",
       "    .dataframe tbody tr th {\n",
       "        vertical-align: top;\n",
       "    }\n",
       "\n",
       "    .dataframe thead th {\n",
       "        text-align: right;\n",
       "    }\n",
       "</style>\n",
       "<table border=\"1\" class=\"dataframe\">\n",
       "  <thead>\n",
       "    <tr style=\"text-align: right;\">\n",
       "      <th></th>\n",
       "      <th>Open</th>\n",
       "      <th>High</th>\n",
       "      <th>Low</th>\n",
       "      <th>Close</th>\n",
       "      <th>Adj Close</th>\n",
       "      <th>Volume</th>\n",
       "    </tr>\n",
       "    <tr>\n",
       "      <th>Date</th>\n",
       "      <th></th>\n",
       "      <th></th>\n",
       "      <th></th>\n",
       "      <th></th>\n",
       "      <th></th>\n",
       "      <th></th>\n",
       "    </tr>\n",
       "  </thead>\n",
       "  <tbody>\n",
       "    <tr>\n",
       "      <th>2020-05-22</th>\n",
       "      <td>1396.709961</td>\n",
       "      <td>1412.760010</td>\n",
       "      <td>1391.829956</td>\n",
       "      <td>NaN</td>\n",
       "      <td>1410.420044</td>\n",
       "      <td>1309400.0</td>\n",
       "    </tr>\n",
       "    <tr>\n",
       "      <th>2020-05-29</th>\n",
       "      <td>NaN</td>\n",
       "      <td>NaN</td>\n",
       "      <td>NaN</td>\n",
       "      <td>NaN</td>\n",
       "      <td>NaN</td>\n",
       "      <td>NaN</td>\n",
       "    </tr>\n",
       "    <tr>\n",
       "      <th>2021-02-19</th>\n",
       "      <td>2119.270020</td>\n",
       "      <td>2130.530029</td>\n",
       "      <td>2097.409912</td>\n",
       "      <td>NaN</td>\n",
       "      <td>2101.139893</td>\n",
       "      <td>1457400.0</td>\n",
       "    </tr>\n",
       "    <tr>\n",
       "      <th>2021-08-20</th>\n",
       "      <td>NaN</td>\n",
       "      <td>NaN</td>\n",
       "      <td>NaN</td>\n",
       "      <td>NaN</td>\n",
       "      <td>NaN</td>\n",
       "      <td>NaN</td>\n",
       "    </tr>\n",
       "    <tr>\n",
       "      <th>2021-08-23</th>\n",
       "      <td>NaN</td>\n",
       "      <td>NaN</td>\n",
       "      <td>NaN</td>\n",
       "      <td>NaN</td>\n",
       "      <td>NaN</td>\n",
       "      <td>NaN</td>\n",
       "    </tr>\n",
       "    <tr>\n",
       "      <th>2021-08-26</th>\n",
       "      <td>2852.370117</td>\n",
       "      <td>2862.696045</td>\n",
       "      <td>2841.830078</td>\n",
       "      <td>NaN</td>\n",
       "      <td>2842.459961</td>\n",
       "      <td>746100.0</td>\n",
       "    </tr>\n",
       "  </tbody>\n",
       "</table>\n",
       "</div>"
      ],
      "text/plain": [
       "                   Open         High          Low  Close    Adj Close  \\\n",
       "Date                                                                    \n",
       "2020-05-22  1396.709961  1412.760010  1391.829956    NaN  1410.420044   \n",
       "2020-05-29          NaN          NaN          NaN    NaN          NaN   \n",
       "2021-02-19  2119.270020  2130.530029  2097.409912    NaN  2101.139893   \n",
       "2021-08-20          NaN          NaN          NaN    NaN          NaN   \n",
       "2021-08-23          NaN          NaN          NaN    NaN          NaN   \n",
       "2021-08-26  2852.370117  2862.696045  2841.830078    NaN  2842.459961   \n",
       "\n",
       "               Volume  \n",
       "Date                   \n",
       "2020-05-22  1309400.0  \n",
       "2020-05-29        NaN  \n",
       "2021-02-19  1457400.0  \n",
       "2021-08-20        NaN  \n",
       "2021-08-23        NaN  \n",
       "2021-08-26   746100.0  "
      ]
     },
     "execution_count": 83,
     "metadata": {},
     "output_type": "execute_result"
    }
   ],
   "source": [
    "# Let's use bracket notation and our goog_200_close_adjust_diff boolean list to view which rows\n",
    "# have different values in Close and Adj Close price.\n",
    "goog_df_from_2020[goog_2020_close_adjust_diff]"
   ]
  },
  {
   "cell_type": "code",
   "execution_count": 84,
   "id": "4aaa2988-550b-41b1-be56-2bac110d302a",
   "metadata": {},
   "outputs": [
    {
     "data": {
      "text/plain": [
       "False    417\n",
       "dtype: int64"
      ]
     },
     "execution_count": 84,
     "metadata": {},
     "output_type": "execute_result"
    }
   ],
   "source": [
    "#  Let's drop all rows with NaN values in Close and Adj Close columns.\n",
    "goog_df_from_2020 = goog_df_from_2020.dropna(subset=[\"Close\", \"Adj Close\"])\n",
    "goog_df_from_2020\n",
    "\n",
    "goog_2020_close_adjust_diff = goog_df_from_2020[\"Close\"] != goog_df_from_2020[\"Adj Close\"]\n",
    "\n",
    "# Let's count how many True values remain.\n",
    "goog_2020_close_adjust_diff.value_counts()"
   ]
  },
  {
   "cell_type": "code",
   "execution_count": 85,
   "id": "85b93437-f066-49bf-b0a2-b5977a67bc50",
   "metadata": {},
   "outputs": [
    {
     "data": {
      "text/html": [
       "<div>\n",
       "<style scoped>\n",
       "    .dataframe tbody tr th:only-of-type {\n",
       "        vertical-align: middle;\n",
       "    }\n",
       "\n",
       "    .dataframe tbody tr th {\n",
       "        vertical-align: top;\n",
       "    }\n",
       "\n",
       "    .dataframe thead th {\n",
       "        text-align: right;\n",
       "    }\n",
       "</style>\n",
       "<table border=\"1\" class=\"dataframe\">\n",
       "  <thead>\n",
       "    <tr style=\"text-align: right;\">\n",
       "      <th></th>\n",
       "      <th>Open</th>\n",
       "      <th>High</th>\n",
       "      <th>Low</th>\n",
       "      <th>Close</th>\n",
       "      <th>Adj Close</th>\n",
       "      <th>Volume</th>\n",
       "    </tr>\n",
       "    <tr>\n",
       "      <th>Date</th>\n",
       "      <th></th>\n",
       "      <th></th>\n",
       "      <th></th>\n",
       "      <th></th>\n",
       "      <th></th>\n",
       "      <th></th>\n",
       "    </tr>\n",
       "  </thead>\n",
       "  <tbody>\n",
       "  </tbody>\n",
       "</table>\n",
       "</div>"
      ],
      "text/plain": [
       "Empty DataFrame\n",
       "Columns: [Open, High, Low, Close, Adj Close, Volume]\n",
       "Index: []"
      ]
     },
     "execution_count": 85,
     "metadata": {},
     "output_type": "execute_result"
    }
   ],
   "source": [
    "# For safety, let's check out what a DataFrame of all columns with NaN values in Close and Adj Close look like.\n",
    "# We should see no more rows with NaN in either Close or Adj Close.\n",
    "goog_df_from_2020[goog_2020_close_adjust_diff]"
   ]
  },
  {
   "cell_type": "code",
   "execution_count": 86,
   "id": "7363593f-690e-4aab-8486-fcb0f9b11348",
   "metadata": {},
   "outputs": [
    {
     "data": {
      "text/html": [
       "<div>\n",
       "<style scoped>\n",
       "    .dataframe tbody tr th:only-of-type {\n",
       "        vertical-align: middle;\n",
       "    }\n",
       "\n",
       "    .dataframe tbody tr th {\n",
       "        vertical-align: top;\n",
       "    }\n",
       "\n",
       "    .dataframe thead th {\n",
       "        text-align: right;\n",
       "    }\n",
       "</style>\n",
       "<table border=\"1\" class=\"dataframe\">\n",
       "  <thead>\n",
       "    <tr style=\"text-align: right;\">\n",
       "      <th></th>\n",
       "      <th>Open</th>\n",
       "      <th>High</th>\n",
       "      <th>Low</th>\n",
       "      <th>Close</th>\n",
       "      <th>Volume</th>\n",
       "    </tr>\n",
       "    <tr>\n",
       "      <th>Date</th>\n",
       "      <th></th>\n",
       "      <th></th>\n",
       "      <th></th>\n",
       "      <th></th>\n",
       "      <th></th>\n",
       "    </tr>\n",
       "  </thead>\n",
       "  <tbody>\n",
       "    <tr>\n",
       "      <th>2021-08-30</th>\n",
       "      <td>2894.090088</td>\n",
       "      <td>2929.790039</td>\n",
       "      <td>2892.000000</td>\n",
       "      <td>2909.389893</td>\n",
       "      <td>845800.0</td>\n",
       "    </tr>\n",
       "    <tr>\n",
       "      <th>2021-08-31</th>\n",
       "      <td>NaN</td>\n",
       "      <td>2922.239990</td>\n",
       "      <td>2900.000000</td>\n",
       "      <td>2909.239990</td>\n",
       "      <td>1337800.0</td>\n",
       "    </tr>\n",
       "    <tr>\n",
       "      <th>2021-09-01</th>\n",
       "      <td>2913.000000</td>\n",
       "      <td>2936.409912</td>\n",
       "      <td>2912.290039</td>\n",
       "      <td>2916.840088</td>\n",
       "      <td>791200.0</td>\n",
       "    </tr>\n",
       "    <tr>\n",
       "      <th>2021-09-02</th>\n",
       "      <td>2918.989990</td>\n",
       "      <td>2926.500000</td>\n",
       "      <td>NaN</td>\n",
       "      <td>2884.379883</td>\n",
       "      <td>1092200.0</td>\n",
       "    </tr>\n",
       "    <tr>\n",
       "      <th>2021-09-03</th>\n",
       "      <td>2882.919922</td>\n",
       "      <td>2907.540039</td>\n",
       "      <td>2870.100098</td>\n",
       "      <td>2895.500000</td>\n",
       "      <td>955200.0</td>\n",
       "    </tr>\n",
       "  </tbody>\n",
       "</table>\n",
       "</div>"
      ],
      "text/plain": [
       "                   Open         High          Low        Close     Volume\n",
       "Date                                                                     \n",
       "2021-08-30  2894.090088  2929.790039  2892.000000  2909.389893   845800.0\n",
       "2021-08-31          NaN  2922.239990  2900.000000  2909.239990  1337800.0\n",
       "2021-09-01  2913.000000  2936.409912  2912.290039  2916.840088   791200.0\n",
       "2021-09-02  2918.989990  2926.500000          NaN  2884.379883  1092200.0\n",
       "2021-09-03  2882.919922  2907.540039  2870.100098  2895.500000   955200.0"
      ]
     },
     "execution_count": 86,
     "metadata": {},
     "output_type": "execute_result"
    }
   ],
   "source": [
    "# For demonstration purposes, let's drop the Adj Close column, since we're certain it has the same values as our Close colum anyway.\n",
    "goog_df_from_2020 = goog_df_from_2020.drop(columns=[\"Adj Close\"])\n",
    "\n",
    "# Let's check the tail, where we had seen an NaN value under \"Close\" previously.\n",
    "goog_df_from_2020.tail()"
   ]
  },
  {
   "cell_type": "code",
   "execution_count": 87,
   "id": "674cb04c-d1bb-4e03-aff2-9bb1a8437223",
   "metadata": {},
   "outputs": [
    {
     "data": {
      "text/plain": [
       "3"
      ]
     },
     "execution_count": 87,
     "metadata": {},
     "output_type": "execute_result"
    }
   ],
   "source": [
    "# Let's use isna() and sum() to count how many NaN values we see under Volume.\n",
    "goog_df_from_2020[\"Volume\"].isna().sum()"
   ]
  },
  {
   "cell_type": "code",
   "execution_count": 88,
   "id": "a3116451-40be-4cb5-82e8-9f4496bae150",
   "metadata": {},
   "outputs": [
    {
     "data": {
      "text/plain": [
       "dtype('float64')"
      ]
     },
     "execution_count": 88,
     "metadata": {},
     "output_type": "execute_result"
    }
   ],
   "source": [
    "# Let's check the dtype for Volume.\n",
    "goog_df_from_2020[\"Volume\"].dtype"
   ]
  },
  {
   "cell_type": "code",
   "execution_count": 89,
   "id": "3c25dfd9-8a16-4449-87af-70e7f1c9d945",
   "metadata": {},
   "outputs": [
    {
     "data": {
      "text/plain": [
       "3"
      ]
     },
     "execution_count": 89,
     "metadata": {},
     "output_type": "execute_result"
    }
   ],
   "source": [
    "# Let's see how many values under Volume are not full numbers cleanly divisible by 1.\n",
    "goog_df_vol_non_int = goog_df_from_2020[\"Volume\"] % 1 != 0\n",
    "goog_df_vol_non_int.sum()"
   ]
  },
  {
   "cell_type": "code",
   "execution_count": 90,
   "id": "4174e4f9-ef47-47b7-8701-3701ee4a7312",
   "metadata": {},
   "outputs": [
    {
     "data": {
      "text/html": [
       "<div>\n",
       "<style scoped>\n",
       "    .dataframe tbody tr th:only-of-type {\n",
       "        vertical-align: middle;\n",
       "    }\n",
       "\n",
       "    .dataframe tbody tr th {\n",
       "        vertical-align: top;\n",
       "    }\n",
       "\n",
       "    .dataframe thead th {\n",
       "        text-align: right;\n",
       "    }\n",
       "</style>\n",
       "<table border=\"1\" class=\"dataframe\">\n",
       "  <thead>\n",
       "    <tr style=\"text-align: right;\">\n",
       "      <th></th>\n",
       "      <th>Open</th>\n",
       "      <th>High</th>\n",
       "      <th>Low</th>\n",
       "      <th>Close</th>\n",
       "      <th>Volume</th>\n",
       "    </tr>\n",
       "    <tr>\n",
       "      <th>Date</th>\n",
       "      <th></th>\n",
       "      <th></th>\n",
       "      <th></th>\n",
       "      <th></th>\n",
       "      <th></th>\n",
       "    </tr>\n",
       "  </thead>\n",
       "  <tbody>\n",
       "    <tr>\n",
       "      <th>2020-07-10</th>\n",
       "      <td>1506.150024</td>\n",
       "      <td>1543.829956</td>\n",
       "      <td>1496.540039</td>\n",
       "      <td>1541.739990</td>\n",
       "      <td>NaN</td>\n",
       "    </tr>\n",
       "    <tr>\n",
       "      <th>2020-07-22</th>\n",
       "      <td>1560.500000</td>\n",
       "      <td>1570.000000</td>\n",
       "      <td>1546.099976</td>\n",
       "      <td>1568.489990</td>\n",
       "      <td>NaN</td>\n",
       "    </tr>\n",
       "    <tr>\n",
       "      <th>2021-08-11</th>\n",
       "      <td>2765.659912</td>\n",
       "      <td>2776.955078</td>\n",
       "      <td>2747.000000</td>\n",
       "      <td>2753.790039</td>\n",
       "      <td>NaN</td>\n",
       "    </tr>\n",
       "  </tbody>\n",
       "</table>\n",
       "</div>"
      ],
      "text/plain": [
       "                   Open         High          Low        Close  Volume\n",
       "Date                                                                  \n",
       "2020-07-10  1506.150024  1543.829956  1496.540039  1541.739990     NaN\n",
       "2020-07-22  1560.500000  1570.000000  1546.099976  1568.489990     NaN\n",
       "2021-08-11  2765.659912  2776.955078  2747.000000  2753.790039     NaN"
      ]
     },
     "execution_count": 90,
     "metadata": {},
     "output_type": "execute_result"
    }
   ],
   "source": [
    "# Let's examine those values.\n",
    "goog_df_from_2020[goog_df_vol_non_int]"
   ]
  },
  {
   "cell_type": "code",
   "execution_count": 91,
   "id": "5fdb4013-7714-4fa3-a46d-c398da5a9cdd",
   "metadata": {},
   "outputs": [],
   "source": [
    "# Let's replace all of the NaN occurrences with the mean.\n",
    "goog_df_from_2020_vol_mean = goog_df_from_2020[\"Volume\"].mean()\n",
    "goog_df_from_2020[\"Volume\"] = goog_df_from_2020[\"Volume\"].fillna(goog_df_from_2020_vol_mean)\n",
    "\n",
    "# Let's reassign this column as an int\n",
    "goog_df_from_2020[\"Volume\"] = goog_df_from_2020[\"Volume\"].astype(\"int\")"
   ]
  },
  {
   "cell_type": "code",
   "execution_count": 92,
   "id": "1b023e2d-d719-4417-a137-5f54fc6fed12",
   "metadata": {},
   "outputs": [
    {
     "data": {
      "text/plain": [
       "dtype('int64')"
      ]
     },
     "execution_count": 92,
     "metadata": {},
     "output_type": "execute_result"
    }
   ],
   "source": [
    "# Let's exmaine the dtype for our Volume column now.\n",
    "goog_df_from_2020[\"Volume\"].dtype"
   ]
  },
  {
   "cell_type": "code",
   "execution_count": 93,
   "id": "81d02bcd-b311-46b7-a3a3-9bdfad0c8efd",
   "metadata": {},
   "outputs": [
    {
     "data": {
      "text/plain": [
       "Open              3\n",
       "High              2\n",
       "Low               3\n",
       "Close             0\n",
       "Volume            0\n",
       "High/Low Split    5\n",
       "dtype: int64"
      ]
     },
     "execution_count": 93,
     "metadata": {},
     "output_type": "execute_result"
    }
   ],
   "source": [
    "# Let's generate a new Series in our DataFrame that calculates the difference between \n",
    "# each row's value under the **High** and **Low** columns.\n",
    "goog_df_from_2020[\"High/Low Split\"] = goog_df_from_2020[\"High\"] - goog_df_from_2020[\"Low\"]\n",
    "\n",
    "# How many NaN values remain throughout our DataFrame?\n",
    "goog_df_from_2020.isna().sum()"
   ]
  },
  {
   "cell_type": "code",
   "execution_count": 94,
   "id": "eebc4404-8f48-411b-af82-0f4c60d307a3",
   "metadata": {},
   "outputs": [],
   "source": [
    "# Let's drop all NaN values across our DataFrame.\n",
    "goog_df_from_2020 = goog_df_from_2020.dropna()"
   ]
  },
  {
   "cell_type": "code",
   "execution_count": 95,
   "id": "0a94a973-5051-4bdb-bfb4-d2d4b63849a4",
   "metadata": {},
   "outputs": [
    {
     "data": {
      "text/plain": [
       "count    409.000000\n",
       "mean      38.194108\n",
       "std       17.613189\n",
       "min       10.705933\n",
       "25%       26.589844\n",
       "50%       33.859008\n",
       "75%       45.079956\n",
       "max      107.200074\n",
       "Name: High/Low Split, dtype: float64"
      ]
     },
     "execution_count": 95,
     "metadata": {},
     "output_type": "execute_result"
    }
   ],
   "source": [
    "# Let's run describe() on our High/Low Split Series.\n",
    "goog_df_from_2020[\"High/Low Split\"].describe()"
   ]
  },
  {
   "cell_type": "code",
   "execution_count": 96,
   "id": "3035ea05-addc-4817-98ce-2d39dff8cb7c",
   "metadata": {},
   "outputs": [
    {
     "data": {
      "text/plain": [
       "Date\n",
       "2021-03-08    107.200074\n",
       "2020-03-13    102.617066\n",
       "2021-07-27     98.219971\n",
       "2021-02-03     98.119995\n",
       "2020-03-19     97.861939\n",
       "                 ...    \n",
       "2020-02-12     12.584961\n",
       "2021-06-24     11.510010\n",
       "2020-01-15     11.185059\n",
       "2020-01-16     11.069946\n",
       "2020-02-19     10.705933\n",
       "Name: High/Low Split, Length: 409, dtype: float64"
      ]
     },
     "execution_count": 96,
     "metadata": {},
     "output_type": "execute_result"
    }
   ],
   "source": [
    "# Let's create a variable which stores all values in our \"High/Low Split\", with ascending set to False.\n",
    "goog_df_from_2020_split_sorted = goog_df_from_2020[\"High/Low Split\"].sort_values(ascending=False)\n",
    "\n",
    "# Let's view our Series.\n",
    "goog_df_from_2020_split_sorted"
   ]
  },
  {
   "cell_type": "code",
   "execution_count": 97,
   "id": "977e97bc-33c9-4ef2-922b-0dd41909346f",
   "metadata": {},
   "outputs": [
    {
     "data": {
      "text/html": [
       "<div>\n",
       "<style scoped>\n",
       "    .dataframe tbody tr th:only-of-type {\n",
       "        vertical-align: middle;\n",
       "    }\n",
       "\n",
       "    .dataframe tbody tr th {\n",
       "        vertical-align: top;\n",
       "    }\n",
       "\n",
       "    .dataframe thead th {\n",
       "        text-align: right;\n",
       "    }\n",
       "</style>\n",
       "<table border=\"1\" class=\"dataframe\">\n",
       "  <thead>\n",
       "    <tr style=\"text-align: right;\">\n",
       "      <th></th>\n",
       "      <th>Open</th>\n",
       "      <th>High</th>\n",
       "      <th>Low</th>\n",
       "      <th>Close</th>\n",
       "      <th>Volume</th>\n",
       "      <th>High/Low Split</th>\n",
       "      <th>Close Price Change</th>\n",
       "    </tr>\n",
       "    <tr>\n",
       "      <th>Date</th>\n",
       "      <th></th>\n",
       "      <th></th>\n",
       "      <th></th>\n",
       "      <th></th>\n",
       "      <th></th>\n",
       "      <th></th>\n",
       "      <th></th>\n",
       "    </tr>\n",
       "  </thead>\n",
       "  <tbody>\n",
       "    <tr>\n",
       "      <th>2020-01-02</th>\n",
       "      <td>1341.550049</td>\n",
       "      <td>1368.140015</td>\n",
       "      <td>1341.550049</td>\n",
       "      <td>1367.369995</td>\n",
       "      <td>1406600</td>\n",
       "      <td>26.589966</td>\n",
       "      <td>NaN</td>\n",
       "    </tr>\n",
       "    <tr>\n",
       "      <th>2020-01-03</th>\n",
       "      <td>1347.859985</td>\n",
       "      <td>1372.500000</td>\n",
       "      <td>1345.543945</td>\n",
       "      <td>1360.660034</td>\n",
       "      <td>1186400</td>\n",
       "      <td>26.956055</td>\n",
       "      <td>-6.709961</td>\n",
       "    </tr>\n",
       "    <tr>\n",
       "      <th>2020-01-06</th>\n",
       "      <td>1350.000000</td>\n",
       "      <td>1396.500000</td>\n",
       "      <td>1350.000000</td>\n",
       "      <td>1394.209961</td>\n",
       "      <td>1732300</td>\n",
       "      <td>46.500000</td>\n",
       "      <td>33.549927</td>\n",
       "    </tr>\n",
       "    <tr>\n",
       "      <th>2020-01-07</th>\n",
       "      <td>1397.939941</td>\n",
       "      <td>1402.989990</td>\n",
       "      <td>1390.380005</td>\n",
       "      <td>1393.339966</td>\n",
       "      <td>1502700</td>\n",
       "      <td>12.609985</td>\n",
       "      <td>-0.869995</td>\n",
       "    </tr>\n",
       "    <tr>\n",
       "      <th>2020-01-08</th>\n",
       "      <td>1392.079956</td>\n",
       "      <td>1411.579956</td>\n",
       "      <td>1390.839966</td>\n",
       "      <td>1404.319946</td>\n",
       "      <td>1528000</td>\n",
       "      <td>20.739990</td>\n",
       "      <td>10.979980</td>\n",
       "    </tr>\n",
       "    <tr>\n",
       "      <th>...</th>\n",
       "      <td>...</td>\n",
       "      <td>...</td>\n",
       "      <td>...</td>\n",
       "      <td>...</td>\n",
       "      <td>...</td>\n",
       "      <td>...</td>\n",
       "      <td>...</td>\n",
       "    </tr>\n",
       "    <tr>\n",
       "      <th>2021-08-25</th>\n",
       "      <td>2857.659912</td>\n",
       "      <td>2866.260010</td>\n",
       "      <td>2848.790039</td>\n",
       "      <td>2859.000000</td>\n",
       "      <td>641900</td>\n",
       "      <td>17.469971</td>\n",
       "      <td>11.030029</td>\n",
       "    </tr>\n",
       "    <tr>\n",
       "      <th>2021-08-27</th>\n",
       "      <td>2842.250000</td>\n",
       "      <td>2900.219971</td>\n",
       "      <td>2840.399902</td>\n",
       "      <td>2891.010010</td>\n",
       "      <td>1228100</td>\n",
       "      <td>59.820069</td>\n",
       "      <td>32.010010</td>\n",
       "    </tr>\n",
       "    <tr>\n",
       "      <th>2021-08-30</th>\n",
       "      <td>2894.090088</td>\n",
       "      <td>2929.790039</td>\n",
       "      <td>2892.000000</td>\n",
       "      <td>2909.389893</td>\n",
       "      <td>845800</td>\n",
       "      <td>37.790039</td>\n",
       "      <td>18.379883</td>\n",
       "    </tr>\n",
       "    <tr>\n",
       "      <th>2021-09-01</th>\n",
       "      <td>2913.000000</td>\n",
       "      <td>2936.409912</td>\n",
       "      <td>2912.290039</td>\n",
       "      <td>2916.840088</td>\n",
       "      <td>791200</td>\n",
       "      <td>24.119873</td>\n",
       "      <td>7.450195</td>\n",
       "    </tr>\n",
       "    <tr>\n",
       "      <th>2021-09-03</th>\n",
       "      <td>2882.919922</td>\n",
       "      <td>2907.540039</td>\n",
       "      <td>2870.100098</td>\n",
       "      <td>2895.500000</td>\n",
       "      <td>955200</td>\n",
       "      <td>37.439941</td>\n",
       "      <td>-21.340088</td>\n",
       "    </tr>\n",
       "  </tbody>\n",
       "</table>\n",
       "<p>409 rows × 7 columns</p>\n",
       "</div>"
      ],
      "text/plain": [
       "                   Open         High          Low        Close   Volume  \\\n",
       "Date                                                                      \n",
       "2020-01-02  1341.550049  1368.140015  1341.550049  1367.369995  1406600   \n",
       "2020-01-03  1347.859985  1372.500000  1345.543945  1360.660034  1186400   \n",
       "2020-01-06  1350.000000  1396.500000  1350.000000  1394.209961  1732300   \n",
       "2020-01-07  1397.939941  1402.989990  1390.380005  1393.339966  1502700   \n",
       "2020-01-08  1392.079956  1411.579956  1390.839966  1404.319946  1528000   \n",
       "...                 ...          ...          ...          ...      ...   \n",
       "2021-08-25  2857.659912  2866.260010  2848.790039  2859.000000   641900   \n",
       "2021-08-27  2842.250000  2900.219971  2840.399902  2891.010010  1228100   \n",
       "2021-08-30  2894.090088  2929.790039  2892.000000  2909.389893   845800   \n",
       "2021-09-01  2913.000000  2936.409912  2912.290039  2916.840088   791200   \n",
       "2021-09-03  2882.919922  2907.540039  2870.100098  2895.500000   955200   \n",
       "\n",
       "            High/Low Split  Close Price Change  \n",
       "Date                                            \n",
       "2020-01-02       26.589966                 NaN  \n",
       "2020-01-03       26.956055           -6.709961  \n",
       "2020-01-06       46.500000           33.549927  \n",
       "2020-01-07       12.609985           -0.869995  \n",
       "2020-01-08       20.739990           10.979980  \n",
       "...                    ...                 ...  \n",
       "2021-08-25       17.469971           11.030029  \n",
       "2021-08-27       59.820069           32.010010  \n",
       "2021-08-30       37.790039           18.379883  \n",
       "2021-09-01       24.119873            7.450195  \n",
       "2021-09-03       37.439941          -21.340088  \n",
       "\n",
       "[409 rows x 7 columns]"
      ]
     },
     "execution_count": 97,
     "metadata": {},
     "output_type": "execute_result"
    }
   ],
   "source": [
    "# Let's create a new column in our DataFrame called Closed Price Change to represent the daily price difference in\n",
    "# the Closed column, using the shift() method.\n",
    "goog_df_from_2020[\"Close Price Change\"] = goog_df_from_2020[\"Close\"] - goog_df_from_2020[\"Close\"].shift()\n",
    "\n",
    "# Let's display our chart.\n",
    "goog_df_from_2020"
   ]
  },
  {
   "cell_type": "code",
   "execution_count": 98,
   "id": "4ed68c6c-27c9-4310-bf8d-c94f516f6bf0",
   "metadata": {},
   "outputs": [
    {
     "data": {
      "text/html": [
       "<div>\n",
       "<style scoped>\n",
       "    .dataframe tbody tr th:only-of-type {\n",
       "        vertical-align: middle;\n",
       "    }\n",
       "\n",
       "    .dataframe tbody tr th {\n",
       "        vertical-align: top;\n",
       "    }\n",
       "\n",
       "    .dataframe thead th {\n",
       "        text-align: right;\n",
       "    }\n",
       "</style>\n",
       "<table border=\"1\" class=\"dataframe\">\n",
       "  <thead>\n",
       "    <tr style=\"text-align: right;\">\n",
       "      <th></th>\n",
       "      <th>Open</th>\n",
       "      <th>High</th>\n",
       "      <th>Low</th>\n",
       "      <th>Close</th>\n",
       "      <th>Volume</th>\n",
       "      <th>High/Low Split</th>\n",
       "      <th>Close Price Change</th>\n",
       "      <th>Close Pct Change</th>\n",
       "    </tr>\n",
       "    <tr>\n",
       "      <th>Date</th>\n",
       "      <th></th>\n",
       "      <th></th>\n",
       "      <th></th>\n",
       "      <th></th>\n",
       "      <th></th>\n",
       "      <th></th>\n",
       "      <th></th>\n",
       "      <th></th>\n",
       "    </tr>\n",
       "  </thead>\n",
       "  <tbody>\n",
       "    <tr>\n",
       "      <th>2020-01-02</th>\n",
       "      <td>1341.550049</td>\n",
       "      <td>1368.140015</td>\n",
       "      <td>1341.550049</td>\n",
       "      <td>1367.369995</td>\n",
       "      <td>1406600</td>\n",
       "      <td>26.589966</td>\n",
       "      <td>NaN</td>\n",
       "      <td>NaN</td>\n",
       "    </tr>\n",
       "    <tr>\n",
       "      <th>2020-01-03</th>\n",
       "      <td>1347.859985</td>\n",
       "      <td>1372.500000</td>\n",
       "      <td>1345.543945</td>\n",
       "      <td>1360.660034</td>\n",
       "      <td>1186400</td>\n",
       "      <td>26.956055</td>\n",
       "      <td>-6.709961</td>\n",
       "      <td>-0.004931</td>\n",
       "    </tr>\n",
       "    <tr>\n",
       "      <th>2020-01-06</th>\n",
       "      <td>1350.000000</td>\n",
       "      <td>1396.500000</td>\n",
       "      <td>1350.000000</td>\n",
       "      <td>1394.209961</td>\n",
       "      <td>1732300</td>\n",
       "      <td>46.500000</td>\n",
       "      <td>33.549927</td>\n",
       "      <td>0.024064</td>\n",
       "    </tr>\n",
       "    <tr>\n",
       "      <th>2020-01-07</th>\n",
       "      <td>1397.939941</td>\n",
       "      <td>1402.989990</td>\n",
       "      <td>1390.380005</td>\n",
       "      <td>1393.339966</td>\n",
       "      <td>1502700</td>\n",
       "      <td>12.609985</td>\n",
       "      <td>-0.869995</td>\n",
       "      <td>-0.000624</td>\n",
       "    </tr>\n",
       "    <tr>\n",
       "      <th>2020-01-08</th>\n",
       "      <td>1392.079956</td>\n",
       "      <td>1411.579956</td>\n",
       "      <td>1390.839966</td>\n",
       "      <td>1404.319946</td>\n",
       "      <td>1528000</td>\n",
       "      <td>20.739990</td>\n",
       "      <td>10.979980</td>\n",
       "      <td>0.007819</td>\n",
       "    </tr>\n",
       "    <tr>\n",
       "      <th>...</th>\n",
       "      <td>...</td>\n",
       "      <td>...</td>\n",
       "      <td>...</td>\n",
       "      <td>...</td>\n",
       "      <td>...</td>\n",
       "      <td>...</td>\n",
       "      <td>...</td>\n",
       "      <td>...</td>\n",
       "    </tr>\n",
       "    <tr>\n",
       "      <th>2021-08-25</th>\n",
       "      <td>2857.659912</td>\n",
       "      <td>2866.260010</td>\n",
       "      <td>2848.790039</td>\n",
       "      <td>2859.000000</td>\n",
       "      <td>641900</td>\n",
       "      <td>17.469971</td>\n",
       "      <td>11.030029</td>\n",
       "      <td>0.003858</td>\n",
       "    </tr>\n",
       "    <tr>\n",
       "      <th>2021-08-27</th>\n",
       "      <td>2842.250000</td>\n",
       "      <td>2900.219971</td>\n",
       "      <td>2840.399902</td>\n",
       "      <td>2891.010010</td>\n",
       "      <td>1228100</td>\n",
       "      <td>59.820069</td>\n",
       "      <td>32.010010</td>\n",
       "      <td>0.011072</td>\n",
       "    </tr>\n",
       "    <tr>\n",
       "      <th>2021-08-30</th>\n",
       "      <td>2894.090088</td>\n",
       "      <td>2929.790039</td>\n",
       "      <td>2892.000000</td>\n",
       "      <td>2909.389893</td>\n",
       "      <td>845800</td>\n",
       "      <td>37.790039</td>\n",
       "      <td>18.379883</td>\n",
       "      <td>0.006317</td>\n",
       "    </tr>\n",
       "    <tr>\n",
       "      <th>2021-09-01</th>\n",
       "      <td>2913.000000</td>\n",
       "      <td>2936.409912</td>\n",
       "      <td>2912.290039</td>\n",
       "      <td>2916.840088</td>\n",
       "      <td>791200</td>\n",
       "      <td>24.119873</td>\n",
       "      <td>7.450195</td>\n",
       "      <td>0.002554</td>\n",
       "    </tr>\n",
       "    <tr>\n",
       "      <th>2021-09-03</th>\n",
       "      <td>2882.919922</td>\n",
       "      <td>2907.540039</td>\n",
       "      <td>2870.100098</td>\n",
       "      <td>2895.500000</td>\n",
       "      <td>955200</td>\n",
       "      <td>37.439941</td>\n",
       "      <td>-21.340088</td>\n",
       "      <td>-0.007370</td>\n",
       "    </tr>\n",
       "  </tbody>\n",
       "</table>\n",
       "<p>409 rows × 8 columns</p>\n",
       "</div>"
      ],
      "text/plain": [
       "                   Open         High          Low        Close   Volume  \\\n",
       "Date                                                                      \n",
       "2020-01-02  1341.550049  1368.140015  1341.550049  1367.369995  1406600   \n",
       "2020-01-03  1347.859985  1372.500000  1345.543945  1360.660034  1186400   \n",
       "2020-01-06  1350.000000  1396.500000  1350.000000  1394.209961  1732300   \n",
       "2020-01-07  1397.939941  1402.989990  1390.380005  1393.339966  1502700   \n",
       "2020-01-08  1392.079956  1411.579956  1390.839966  1404.319946  1528000   \n",
       "...                 ...          ...          ...          ...      ...   \n",
       "2021-08-25  2857.659912  2866.260010  2848.790039  2859.000000   641900   \n",
       "2021-08-27  2842.250000  2900.219971  2840.399902  2891.010010  1228100   \n",
       "2021-08-30  2894.090088  2929.790039  2892.000000  2909.389893   845800   \n",
       "2021-09-01  2913.000000  2936.409912  2912.290039  2916.840088   791200   \n",
       "2021-09-03  2882.919922  2907.540039  2870.100098  2895.500000   955200   \n",
       "\n",
       "            High/Low Split  Close Price Change  Close Pct Change  \n",
       "Date                                                              \n",
       "2020-01-02       26.589966                 NaN               NaN  \n",
       "2020-01-03       26.956055           -6.709961         -0.004931  \n",
       "2020-01-06       46.500000           33.549927          0.024064  \n",
       "2020-01-07       12.609985           -0.869995         -0.000624  \n",
       "2020-01-08       20.739990           10.979980          0.007819  \n",
       "...                    ...                 ...               ...  \n",
       "2021-08-25       17.469971           11.030029          0.003858  \n",
       "2021-08-27       59.820069           32.010010          0.011072  \n",
       "2021-08-30       37.790039           18.379883          0.006317  \n",
       "2021-09-01       24.119873            7.450195          0.002554  \n",
       "2021-09-03       37.439941          -21.340088         -0.007370  \n",
       "\n",
       "[409 rows x 8 columns]"
      ]
     },
     "execution_count": 98,
     "metadata": {},
     "output_type": "execute_result"
    }
   ],
   "source": [
    "# Let's create a new column in our DataFrame called Closed Pct Change to represent the daily percent difference in\n",
    "# the Closed column, using the shift() method.\n",
    "goog_df_from_2020[\"Close Pct Change\"] = goog_df_from_2020[\"Close Price Change\"] / goog_df_from_2020[\"Close\"]\n",
    "\n",
    "# Let's display our chart.\n",
    "goog_df_from_2020"
   ]
  },
  {
   "cell_type": "code",
   "execution_count": 99,
   "id": "eb946a1c-32c6-4c73-9b45-a73939df8fb3",
   "metadata": {},
   "outputs": [
    {
     "data": {
      "text/html": [
       "<div>\n",
       "<style scoped>\n",
       "    .dataframe tbody tr th:only-of-type {\n",
       "        vertical-align: middle;\n",
       "    }\n",
       "\n",
       "    .dataframe tbody tr th {\n",
       "        vertical-align: top;\n",
       "    }\n",
       "\n",
       "    .dataframe thead th {\n",
       "        text-align: right;\n",
       "    }\n",
       "</style>\n",
       "<table border=\"1\" class=\"dataframe\">\n",
       "  <thead>\n",
       "    <tr style=\"text-align: right;\">\n",
       "      <th></th>\n",
       "      <th>Open</th>\n",
       "      <th>High</th>\n",
       "      <th>Low</th>\n",
       "      <th>Close</th>\n",
       "      <th>Volume</th>\n",
       "      <th>High/Low Split</th>\n",
       "      <th>Close Price Change</th>\n",
       "      <th>Close Pct Change</th>\n",
       "    </tr>\n",
       "    <tr>\n",
       "      <th>Date</th>\n",
       "      <th></th>\n",
       "      <th></th>\n",
       "      <th></th>\n",
       "      <th></th>\n",
       "      <th></th>\n",
       "      <th></th>\n",
       "      <th></th>\n",
       "      <th></th>\n",
       "    </tr>\n",
       "  </thead>\n",
       "  <tbody>\n",
       "    <tr>\n",
       "      <th>2020-01-02</th>\n",
       "      <td>1341.550049</td>\n",
       "      <td>1368.140015</td>\n",
       "      <td>1341.550049</td>\n",
       "      <td>1367.369995</td>\n",
       "      <td>1406600</td>\n",
       "      <td>26.589966</td>\n",
       "      <td>NaN</td>\n",
       "      <td>NaN</td>\n",
       "    </tr>\n",
       "    <tr>\n",
       "      <th>2020-01-03</th>\n",
       "      <td>1347.859985</td>\n",
       "      <td>1372.500000</td>\n",
       "      <td>1345.543945</td>\n",
       "      <td>1360.660034</td>\n",
       "      <td>1186400</td>\n",
       "      <td>26.956055</td>\n",
       "      <td>-6.709961</td>\n",
       "      <td>-0.004907</td>\n",
       "    </tr>\n",
       "    <tr>\n",
       "      <th>2020-01-06</th>\n",
       "      <td>1350.000000</td>\n",
       "      <td>1396.500000</td>\n",
       "      <td>1350.000000</td>\n",
       "      <td>1394.209961</td>\n",
       "      <td>1732300</td>\n",
       "      <td>46.500000</td>\n",
       "      <td>33.549927</td>\n",
       "      <td>0.024657</td>\n",
       "    </tr>\n",
       "    <tr>\n",
       "      <th>2020-01-07</th>\n",
       "      <td>1397.939941</td>\n",
       "      <td>1402.989990</td>\n",
       "      <td>1390.380005</td>\n",
       "      <td>1393.339966</td>\n",
       "      <td>1502700</td>\n",
       "      <td>12.609985</td>\n",
       "      <td>-0.869995</td>\n",
       "      <td>-0.000624</td>\n",
       "    </tr>\n",
       "    <tr>\n",
       "      <th>2020-01-08</th>\n",
       "      <td>1392.079956</td>\n",
       "      <td>1411.579956</td>\n",
       "      <td>1390.839966</td>\n",
       "      <td>1404.319946</td>\n",
       "      <td>1528000</td>\n",
       "      <td>20.739990</td>\n",
       "      <td>10.979980</td>\n",
       "      <td>0.007880</td>\n",
       "    </tr>\n",
       "    <tr>\n",
       "      <th>...</th>\n",
       "      <td>...</td>\n",
       "      <td>...</td>\n",
       "      <td>...</td>\n",
       "      <td>...</td>\n",
       "      <td>...</td>\n",
       "      <td>...</td>\n",
       "      <td>...</td>\n",
       "      <td>...</td>\n",
       "    </tr>\n",
       "    <tr>\n",
       "      <th>2021-08-25</th>\n",
       "      <td>2857.659912</td>\n",
       "      <td>2866.260010</td>\n",
       "      <td>2848.790039</td>\n",
       "      <td>2859.000000</td>\n",
       "      <td>641900</td>\n",
       "      <td>17.469971</td>\n",
       "      <td>11.030029</td>\n",
       "      <td>0.003873</td>\n",
       "    </tr>\n",
       "    <tr>\n",
       "      <th>2021-08-27</th>\n",
       "      <td>2842.250000</td>\n",
       "      <td>2900.219971</td>\n",
       "      <td>2840.399902</td>\n",
       "      <td>2891.010010</td>\n",
       "      <td>1228100</td>\n",
       "      <td>59.820069</td>\n",
       "      <td>32.010010</td>\n",
       "      <td>0.011196</td>\n",
       "    </tr>\n",
       "    <tr>\n",
       "      <th>2021-08-30</th>\n",
       "      <td>2894.090088</td>\n",
       "      <td>2929.790039</td>\n",
       "      <td>2892.000000</td>\n",
       "      <td>2909.389893</td>\n",
       "      <td>845800</td>\n",
       "      <td>37.790039</td>\n",
       "      <td>18.379883</td>\n",
       "      <td>0.006358</td>\n",
       "    </tr>\n",
       "    <tr>\n",
       "      <th>2021-09-01</th>\n",
       "      <td>2913.000000</td>\n",
       "      <td>2936.409912</td>\n",
       "      <td>2912.290039</td>\n",
       "      <td>2916.840088</td>\n",
       "      <td>791200</td>\n",
       "      <td>24.119873</td>\n",
       "      <td>7.450195</td>\n",
       "      <td>0.002561</td>\n",
       "    </tr>\n",
       "    <tr>\n",
       "      <th>2021-09-03</th>\n",
       "      <td>2882.919922</td>\n",
       "      <td>2907.540039</td>\n",
       "      <td>2870.100098</td>\n",
       "      <td>2895.500000</td>\n",
       "      <td>955200</td>\n",
       "      <td>37.439941</td>\n",
       "      <td>-21.340088</td>\n",
       "      <td>-0.007316</td>\n",
       "    </tr>\n",
       "  </tbody>\n",
       "</table>\n",
       "<p>409 rows × 8 columns</p>\n",
       "</div>"
      ],
      "text/plain": [
       "                   Open         High          Low        Close   Volume  \\\n",
       "Date                                                                      \n",
       "2020-01-02  1341.550049  1368.140015  1341.550049  1367.369995  1406600   \n",
       "2020-01-03  1347.859985  1372.500000  1345.543945  1360.660034  1186400   \n",
       "2020-01-06  1350.000000  1396.500000  1350.000000  1394.209961  1732300   \n",
       "2020-01-07  1397.939941  1402.989990  1390.380005  1393.339966  1502700   \n",
       "2020-01-08  1392.079956  1411.579956  1390.839966  1404.319946  1528000   \n",
       "...                 ...          ...          ...          ...      ...   \n",
       "2021-08-25  2857.659912  2866.260010  2848.790039  2859.000000   641900   \n",
       "2021-08-27  2842.250000  2900.219971  2840.399902  2891.010010  1228100   \n",
       "2021-08-30  2894.090088  2929.790039  2892.000000  2909.389893   845800   \n",
       "2021-09-01  2913.000000  2936.409912  2912.290039  2916.840088   791200   \n",
       "2021-09-03  2882.919922  2907.540039  2870.100098  2895.500000   955200   \n",
       "\n",
       "            High/Low Split  Close Price Change  Close Pct Change  \n",
       "Date                                                              \n",
       "2020-01-02       26.589966                 NaN               NaN  \n",
       "2020-01-03       26.956055           -6.709961         -0.004907  \n",
       "2020-01-06       46.500000           33.549927          0.024657  \n",
       "2020-01-07       12.609985           -0.869995         -0.000624  \n",
       "2020-01-08       20.739990           10.979980          0.007880  \n",
       "...                    ...                 ...               ...  \n",
       "2021-08-25       17.469971           11.030029          0.003873  \n",
       "2021-08-27       59.820069           32.010010          0.011196  \n",
       "2021-08-30       37.790039           18.379883          0.006358  \n",
       "2021-09-01       24.119873            7.450195          0.002561  \n",
       "2021-09-03       37.439941          -21.340088         -0.007316  \n",
       "\n",
       "[409 rows x 8 columns]"
      ]
     },
     "execution_count": 99,
     "metadata": {},
     "output_type": "execute_result"
    }
   ],
   "source": [
    "# Let's do the same as above, but save ourselves time by using the pct_change() method.\n",
    "goog_df_from_2020[\"Close Pct Change\"] = goog_df_from_2020[\"Close\"].pct_change()\n",
    "\n",
    "# Let's display our chart.\n",
    "goog_df_from_2020"
   ]
  },
  {
   "cell_type": "code",
   "execution_count": 100,
   "id": "a4780f86-d719-44f0-9518-cf51fba0c547",
   "metadata": {},
   "outputs": [
    {
     "data": {
      "text/plain": [
       "Date\n",
       "2020-03-13    0.094017\n",
       "2020-04-29    0.087390\n",
       "2020-04-06    0.081102\n",
       "2021-02-03    0.073961\n",
       "2020-03-24    0.073669\n",
       "                ...   \n",
       "2020-06-26   -0.056496\n",
       "2020-03-09   -0.063809\n",
       "2020-03-12   -0.082688\n",
       "2020-03-16   -0.111008\n",
       "2020-01-02         NaN\n",
       "Name: Close Pct Change, Length: 409, dtype: float64"
      ]
     },
     "execution_count": 100,
     "metadata": {},
     "output_type": "execute_result"
    }
   ],
   "source": [
    "# Let's sort our data in our \"Close Pct Change\" Series in descending order.\n",
    "goog_df_from_2020_close_pct_sorted = goog_df_from_2020[\"Close Pct Change\"].sort_values(ascending=False)\n",
    "\n",
    "# Let's view our values in goog_df_from_2020_close_pct_sorted\n",
    "goog_df_from_2020_close_pct_sorted"
   ]
  },
  {
   "cell_type": "markdown",
   "id": "acd89ec7-4664-4e42-8b62-bb70ecdde117",
   "metadata": {},
   "source": [
    "## Graphing our data"
   ]
  },
  {
   "cell_type": "code",
   "execution_count": 101,
   "id": "500ad729-3c07-4721-9a45-12415c41d821",
   "metadata": {},
   "outputs": [
    {
     "data": {
      "text/plain": [
       "<AxesSubplot:xlabel='Date'>"
      ]
     },
     "execution_count": 101,
     "metadata": {},
     "output_type": "execute_result"
    },
    {
     "data": {
      "image/png": "[encoded data removed]",
      "text/plain": [
       "<Figure size 432x288 with 1 Axes>"
      ]
     },
     "metadata": {
      "needs_background": "light"
     },
     "output_type": "display_data"
    }
   ],
   "source": [
    "# Let's use plot() to view a line graph of our Close Series.\n",
    "goog_df_from_2020[\"Close\"].plot()"
   ]
  },
  {
   "cell_type": "code",
   "execution_count": 102,
   "id": "23901965-900f-47cc-9914-87b8a3dd07c7",
   "metadata": {},
   "outputs": [
    {
     "data": {
      "text/plain": [
       "<AxesSubplot:xlabel='Date'>"
      ]
     },
     "execution_count": 102,
     "metadata": {},
     "output_type": "execute_result"
    },
    {
     "data": {
      "image/png": "[encoded data removed]",
      "text/plain": [
       "<Figure size 432x288 with 1 Axes>"
      ]
     },
     "metadata": {
      "needs_background": "light"
     },
     "output_type": "display_data"
    }
   ],
   "source": [
    "# Let's plot a line graph of goog_df_from_2020_split_sorted\n",
    "goog_df_from_2020_close_pct_sorted.plot()"
   ]
  },
  {
   "cell_type": "code",
   "execution_count": 103,
   "id": "88d6c027-5c13-4a9a-b950-ae19df31fc2a",
   "metadata": {},
   "outputs": [
    {
     "data": {
      "text/plain": [
       "<AxesSubplot:ylabel='Frequency'>"
      ]
     },
     "execution_count": 103,
     "metadata": {},
     "output_type": "execute_result"
    },
    {
     "data": {
      "image/png": "[encoded data removed]",
      "text/plain": [
       "<Figure size 432x288 with 1 Axes>"
      ]
     },
     "metadata": {
      "needs_background": "light"
     },
     "output_type": "display_data"
    }
   ],
   "source": [
    "# Let's plot a historical graph of goog_df_from_2020_split_sorted\n",
    "goog_df_from_2020_close_pct_sorted.plot(kind=\"hist\")"
   ]
  },
  {
   "cell_type": "code",
   "execution_count": 104,
   "id": "c69adaa0-20bb-42e4-953b-5f5039b066c1",
   "metadata": {},
   "outputs": [
    {
     "data": {
      "text/plain": [
       "<AxesSubplot:>"
      ]
     },
     "execution_count": 104,
     "metadata": {},
     "output_type": "execute_result"
    },
    {
     "data": {
      "image/png": "[encoded data removed]",
      "text/plain": [
       "<Figure size 432x288 with 1 Axes>"
      ]
     },
     "metadata": {
      "needs_background": "light"
     },
     "output_type": "display_data"
    }
   ],
   "source": [
    "# Let's check in on that `goog_df_from_2020_split_sorted` variable we created earlier, and examine it with a `box` plot.\n",
    "goog_df_from_2020_split_sorted.plot(kind=\"box\")"
   ]
  },
  {
   "cell_type": "code",
   "execution_count": 105,
   "id": "c0c86bac-1c2e-45ac-9f9f-78db28be6fa2",
   "metadata": {},
   "outputs": [
    {
     "data": {
      "text/plain": [
       "count    409.000000\n",
       "mean      38.194108\n",
       "std       17.613189\n",
       "min       10.705933\n",
       "25%       26.589844\n",
       "50%       33.859008\n",
       "75%       45.079956\n",
       "max      107.200074\n",
       "Name: High/Low Split, dtype: float64"
      ]
     },
     "execution_count": 105,
     "metadata": {},
     "output_type": "execute_result"
    }
   ],
   "source": [
    "# Let's confirm these values with exact number figures. \n",
    "goog_df_from_2020_split_sorted.describe()"
   ]
  },
  {
   "cell_type": "code",
   "execution_count": 106,
   "id": "b6576b87-4cd5-4929-8bca-d2df7aa87b7a",
   "metadata": {},
   "outputs": [
    {
     "data": {
      "text/plain": [
       "Open         0\n",
       "High         0\n",
       "Low          0\n",
       "Close        0\n",
       "Adj Close    0\n",
       "Volume       0\n",
       "dtype: int64"
      ]
     },
     "execution_count": 106,
     "metadata": {},
     "output_type": "execute_result"
    }
   ],
   "source": [
    "# Let's read our CSV file for ADBE!\n",
    "adbe_csv_path = Path('../Datasets/ADBE.csv')\n",
    "adbe_df = pd.read_csv(adbe_csv_path,\n",
    "                     index_col=\"Date\",\n",
    "                     parse_dates=True,\n",
    "                     infer_datetime_format=True\n",
    "                     )\n",
    "\n",
    "# Let's just examine stock prices from 2020 onward.\n",
    "adbe_df_from_2020 = adbe_df.loc[\"2020-01-01\":]\n",
    "\n",
    "# How many NaN values do we count across this DataFrame?\n",
    "adbe_df_from_2020.isna().sum()"
   ]
  },
  {
   "cell_type": "code",
   "execution_count": 107,
   "id": "6c412161-33ec-43e5-94e0-c33b6f75195c",
   "metadata": {},
   "outputs": [
    {
     "data": {
      "text/plain": [
       "<AxesSubplot:xlabel='Date'>"
      ]
     },
     "execution_count": 107,
     "metadata": {},
     "output_type": "execute_result"
    },
    {
     "data": {
      "image/png": "[encoded data removed]",
      "text/plain": [
       "<Figure size 432x288 with 1 Axes>"
      ]
     },
     "metadata": {
      "needs_background": "light"
     },
     "output_type": "display_data"
    }
   ],
   "source": [
    "# Let's append the same additional columns we created for GOOG, this time assigning values with loc[] as a practice.\n",
    "adbe_df_from_2020.loc[:, \"High/Low Split\"] = adbe_df_from_2020[\"High\"] - adbe_df_from_2020[\"Low\"]\n",
    "\n",
    "adbe_df_from_2020.loc[:, \"Close Price Change\"] = adbe_df_from_2020[\"Close\"] - adbe_df_from_2020[\"Close\"].shift()\n",
    "\n",
    "adbe_df_from_2020.loc[:, \"Close Pct Change\"] = adbe_df_from_2020[\"Close\"].pct_change()\n",
    "\n",
    "# Let's plot these two line graphs together. We may get a SettingWithCopyWarning; for the moment, let's disregard \n",
    "goog_df_from_2020[\"Close\"].plot()\n",
    "adbe_df_from_2020[\"Close\"].plot()"
   ]
  },
  {
   "cell_type": "code",
   "execution_count": 108,
   "id": "ab878274-b360-4236-9be3-84c61f4bcb30",
   "metadata": {},
   "outputs": [
    {
     "data": {
      "text/plain": [
       "<AxesSubplot:title={'center':'GOOG vs. ADBE'}, xlabel='Date'>"
      ]
     },
     "execution_count": 108,
     "metadata": {},
     "output_type": "execute_result"
    },
    {
     "data": {
      "image/png": "[encoded data removed]",
      "text/plain": [
       "<Figure size 432x288 with 1 Axes>"
      ]
     },
     "metadata": {
      "needs_background": "light"
     },
     "output_type": "display_data"
    }
   ],
   "source": [
    "# Let's give our chart labels, different colors, a legend and a title.\n",
    "goog_df_from_2020[\"Close\"].plot(legend=True, color=\"red\", label=\"GOOG\", title=\"GOOG vs. ADBE\")\n",
    "adbe_df_from_2020[\"Close\"].plot(legend=True, color=\"green\", label=\"ADBE\")"
   ]
  },
  {
   "cell_type": "code",
   "execution_count": 109,
   "id": "59dd56aa-fac5-49b2-9cd6-4ed5f9f3bd69",
   "metadata": {},
   "outputs": [
    {
     "data": {
      "text/plain": [
       "Text(0, 0.5, 'Share Value for ADBE')"
      ]
     },
     "execution_count": 109,
     "metadata": {},
     "output_type": "execute_result"
    },
    {
     "data": {
      "image/png": "[encoded data removed]",
      "text/plain": [
       "<Figure size 1440x1080 with 2 Axes>"
      ]
     },
     "metadata": {
      "needs_background": "light"
     },
     "output_type": "display_data"
    }
   ],
   "source": [
    "# Let's provide greater context with plot's legend, color, label, title and secondary_y arguments, and assign these plots to variables\n",
    "ax_goog = goog_df_from_2020[\"Close\"].plot(legend=True, color=\"red\", label=\"GOOG\", title=\"GOOG vs. ADBE\", figsize=(20, 15))\n",
    "ax_adbe = adbe_df_from_2020[\"Close\"].plot(legend=True, color=\"green\", label=\"ADBE\", secondary_y=True)\n",
    "\n",
    "# Let's use set_ylabel method to add labels on each Y-axis\n",
    "ax_goog.set_ylabel(\"Share Value for GOOG\")\n",
    "ax_adbe.set_ylabel(\"Share Value for ADBE\")"
   ]
  },
  {
   "cell_type": "code",
   "execution_count": 37,
   "id": "b51d1cb0-fe30-47a5-9595-d8539628c5f4",
   "metadata": {},
   "outputs": [],
   "source": [
    "# Question: Which symbol performed better?\n",
    "\n",
    "# Answer: It looks like that `ADBE` may have a slight edge. `ADBE` started out relatively lower in value \n",
    "# by comparison to its current price, relative to what we see in `GOOG`. Indeed, throughout most of 2020,\n",
    "# ADBE strongly outperformed `GOOG` in relative terms."
   ]
  }
 ],
 "metadata": {
  "kernelspec": {
   "display_name": "Python (dev)",
   "language": "python",
   "name": "dev"
  },
  "language_info": {
   "codemirror_mode": {
    "name": "ipython",
    "version": 3
   },
   "file_extension": ".py",
   "mimetype": "text/x-python",
   "name": "python",
   "nbconvert_exporter": "python",
   "pygments_lexer": "ipython3",
   "version": "3.8.8"
  }
 },
 "nbformat": 4,
 "nbformat_minor": 5
}
