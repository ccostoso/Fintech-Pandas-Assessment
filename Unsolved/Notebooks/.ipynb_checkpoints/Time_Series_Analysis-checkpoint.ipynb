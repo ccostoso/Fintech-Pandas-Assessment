{
 "cells": [
  {
   "cell_type": "markdown",
   "id": "9562ea46-538c-48c9-9131-461fac210f08",
   "metadata": {},
   "source": [
    "# Introducting Time Series Analysis"
   ]
  },
  {
   "cell_type": "markdown",
   "id": "3f189176-85ca-4917-8a34-edf6adf3fbd6",
   "metadata": {},
   "source": [
    "Today, we'll learn about a core skill in any FinTech professional's toolbox: analyzing a time series DataFrame using the Pandas library!"
   ]
  },
  {
   "cell_type": "code",
   "execution_count": null,
   "id": "565da362-60d6-4ce0-af2e-dac3d36a1a85",
   "metadata": {},
   "outputs": [],
   "source": [
    "# Let's import pandas with the common alias as pd, and turn of \"Chained Assignment\" warnings\n",
    "\n",
    "# Let's import the Path() method so we can bring in our CSV file"
   ]
  },
  {
   "cell_type": "markdown",
   "id": "7b1a9b68-c445-4170-979a-8cbf630ebe10",
   "metadata": {},
   "source": [
    "## Reading our CSV files"
   ]
  },
  {
   "cell_type": "code",
   "execution_count": null,
   "id": "0688eb69-9de6-45f1-b247-30f9e060f0b2",
   "metadata": {},
   "outputs": [],
   "source": [
    "# Let's read our CSV file!\n",
    "csv_path = \n",
    "goog_df = \n",
    "\n",
    "# Let's look at the first 10 entries in goog_df"
   ]
  },
  {
   "cell_type": "code",
   "execution_count": null,
   "id": "bd63f73c-0c25-470d-bbb4-bdd2a462fa80",
   "metadata": {},
   "outputs": [],
   "source": [
    "# And the last 2"
   ]
  },
  {
   "cell_type": "code",
   "execution_count": null,
   "id": "11e6aaaf-049c-4794-ad89-fa14c6ba6926",
   "metadata": {},
   "outputs": [],
   "source": [
    "# Let's check out the entries of December 1st, 2020 through January 29th, 2021 in our High column with loc[]"
   ]
  },
  {
   "cell_type": "code",
   "execution_count": null,
   "id": "c348ea78-b604-41f9-a547-af9f7482580b",
   "metadata": {},
   "outputs": [],
   "source": [
    "# Let's use iloc[] to examine the first row of our DataFrame."
   ]
  },
  {
   "cell_type": "code",
   "execution_count": null,
   "id": "6c39ac7b-1bd7-4984-9849-d408dfa442eb",
   "metadata": {},
   "outputs": [],
   "source": [
    "# Let's use loc[] to examine stock prices from January 2020 onward.\n",
    "goog_df_from_2020 = \n",
    "\n",
    "goog_df_from_2020"
   ]
  },
  {
   "cell_type": "code",
   "execution_count": null,
   "id": "e4a06303-482c-4916-81db-7c682211ac65",
   "metadata": {},
   "outputs": [],
   "source": [
    "# Let's check out some statistics about our goog_df_from_2020 DataFrame using describe()\n"
   ]
  },
  {
   "cell_type": "code",
   "execution_count": null,
   "id": "239cf22e-b652-422c-86ce-d0bea9976dfe",
   "metadata": {},
   "outputs": [],
   "source": [
    "# Let's check out some statistics about our goog_df_from_2020 DataFrame using describe(), \n",
    "# only looking at columns between \"Open\" and \"Close\"\n"
   ]
  },
  {
   "cell_type": "markdown",
   "id": "24b834f4-7cc1-488a-af91-202c918e59a3",
   "metadata": {},
   "source": [
    "## Trimming our DataFrames"
   ]
  },
  {
   "cell_type": "code",
   "execution_count": null,
   "id": "1dc37905-6f3a-49e5-b7ca-2b9f5e27e887",
   "metadata": {},
   "outputs": [],
   "source": [
    "# How many times is Close price different from Adj Close price?\n",
    "goog_2020_close_adjust_diff = "
   ]
  },
  {
   "cell_type": "code",
   "execution_count": null,
   "id": "adc5a5da-73b1-4dc0-939a-f49255d41fa0",
   "metadata": {},
   "outputs": [],
   "source": [
    "# Let's use bracket notation and our goog_200_close_adjust_diff boolean list to view which rows\n",
    "# have different values in Close and Adj Close price.\n",
    "goog_df_from_2020[goog_2020_close_adjust_diff]"
   ]
  },
  {
   "cell_type": "code",
   "execution_count": null,
   "id": "4aaa2988-550b-41b1-be56-2bac110d302a",
   "metadata": {},
   "outputs": [],
   "source": [
    "#  Let's drop all rows with NaN values in Close and Adj Close columns.\n",
    "goog_df_from_2020 = \n",
    "goog_df_from_2020\n",
    "\n",
    "goog_2020_close_adjust_diff =\n",
    "\n",
    "# Let's count how many True values remain."
   ]
  },
  {
   "cell_type": "code",
   "execution_count": null,
   "id": "85b93437-f066-49bf-b0a2-b5977a67bc50",
   "metadata": {},
   "outputs": [],
   "source": [
    "# For safety, let's check out what a DataFrame of all columns with NaN values in Close and Adj Close look like.\n",
    "# We should see no more rows with NaN in either Close or Adj Close.\n",
    "goog_df_from_2020[goog_2020_close_adjust_diff]"
   ]
  },
  {
   "cell_type": "code",
   "execution_count": null,
   "id": "7363593f-690e-4aab-8486-fcb0f9b11348",
   "metadata": {},
   "outputs": [],
   "source": [
    "# For demonstration purposes, let's drop the Adj Close column, since we're certain it has the same values as our Close colum anyway.\n",
    "goog_df_from_2020\n",
    "\n",
    "# Let's check the tail, where we had seen an NaN value under \"Close\" previously."
   ]
  },
  {
   "cell_type": "code",
   "execution_count": null,
   "id": "674cb04c-d1bb-4e03-aff2-9bb1a8437223",
   "metadata": {},
   "outputs": [],
   "source": [
    "# Let's use isna() and sum() to count how many NaN values we see under Volume.\n"
   ]
  },
  {
   "cell_type": "code",
   "execution_count": null,
   "id": "a3116451-40be-4cb5-82e8-9f4496bae150",
   "metadata": {},
   "outputs": [],
   "source": [
    "# Let's check the dtype for Volume.\n"
   ]
  },
  {
   "cell_type": "code",
   "execution_count": null,
   "id": "3c25dfd9-8a16-4449-87af-70e7f1c9d945",
   "metadata": {},
   "outputs": [],
   "source": [
    "# Let's see how many values under Volume are not full numbers cleanly divisible by 1.\n",
    "goog_df_vol_non_int = "
   ]
  },
  {
   "cell_type": "code",
   "execution_count": null,
   "id": "4174e4f9-ef47-47b7-8701-3701ee4a7312",
   "metadata": {},
   "outputs": [],
   "source": [
    "# Let's examine those values.\n",
    "goog_df_from_2020[goog_df_vol_non_int]"
   ]
  },
  {
   "cell_type": "code",
   "execution_count": null,
   "id": "5fdb4013-7714-4fa3-a46d-c398da5a9cdd",
   "metadata": {},
   "outputs": [],
   "source": [
    "# Let's replace all of the NaN occurrences with the mean.\n",
    "\n",
    "# Let's reassign this column as an int"
   ]
  },
  {
   "cell_type": "code",
   "execution_count": null,
   "id": "1b023e2d-d719-4417-a137-5f54fc6fed12",
   "metadata": {},
   "outputs": [],
   "source": [
    "# Let's exmaine the dtype for our Volume column now."
   ]
  },
  {
   "cell_type": "code",
   "execution_count": null,
   "id": "81d02bcd-b311-46b7-a3a3-9bdfad0c8efd",
   "metadata": {},
   "outputs": [],
   "source": [
    "# Let's generate a new Series in our DataFrame that calculates the difference between \n",
    "# each row's value under the **High** and **Low** columns.\n",
    "goog_df_from_2020[\"High/Low Split\"] =\n",
    "\n",
    "# How many NaN values remain throughout our DataFrame?"
   ]
  },
  {
   "cell_type": "code",
   "execution_count": null,
   "id": "eebc4404-8f48-411b-af82-0f4c60d307a3",
   "metadata": {},
   "outputs": [],
   "source": [
    "# Let's drop all NaN values across our DataFrame."
   ]
  },
  {
   "cell_type": "code",
   "execution_count": null,
   "id": "0a94a973-5051-4bdb-bfb4-d2d4b63849a4",
   "metadata": {},
   "outputs": [],
   "source": [
    "# Let's run describe() on our High/Low Split Series."
   ]
  },
  {
   "cell_type": "code",
   "execution_count": null,
   "id": "3035ea05-addc-4817-98ce-2d39dff8cb7c",
   "metadata": {},
   "outputs": [],
   "source": [
    "# Let's create a variable which stores all values in our \"High/Low Split\", with ascending set to False.\n",
    "goog_df_from_2020_split_sorted =\n",
    "\n",
    "# Let's view our Series.\n",
    "goog_df_from_2020_split_sorted"
   ]
  },
  {
   "cell_type": "code",
   "execution_count": null,
   "id": "977e97bc-33c9-4ef2-922b-0dd41909346f",
   "metadata": {},
   "outputs": [],
   "source": [
    "# Let's create a new column in our DataFrame called Closed Price Change to represent the daily price difference in\n",
    "# the Closed column, using the shift() method.\n",
    "goog_df_from_2020[\"Close Price Change\"] =\n",
    "\n",
    "# Let's display our chart.\n",
    "goog_df_from_2020"
   ]
  },
  {
   "cell_type": "code",
   "execution_count": null,
   "id": "4ed68c6c-27c9-4310-bf8d-c94f516f6bf0",
   "metadata": {},
   "outputs": [],
   "source": [
    "# Let's create a new column in our DataFrame called Closed Pct Change to represent the daily percent difference in\n",
    "# the Closed column, using the shift() method.\n",
    "goog_df_from_2020[\"Close Pct Change\"] =\n",
    "\n",
    "# Let's display our chart.\n",
    "goog_df_from_2020"
   ]
  },
  {
   "cell_type": "code",
   "execution_count": null,
   "id": "eb946a1c-32c6-4c73-9b45-a73939df8fb3",
   "metadata": {},
   "outputs": [],
   "source": [
    "# Let's do the same as above, but save ourselves time by using the pct_change() method.\n",
    "goog_df_from_2020[\"Close Pct Change\"] = \n",
    "\n",
    "# Let's display our chart.\n",
    "goog_df_from_2020"
   ]
  },
  {
   "cell_type": "code",
   "execution_count": null,
   "id": "a4780f86-d719-44f0-9518-cf51fba0c547",
   "metadata": {},
   "outputs": [],
   "source": [
    "# Let's sort our data in our \"Close Pct Change\" Series in descending order.\n",
    "\n",
    "# Let's view our values in goog_df_from_2020_close_pct_sorted"
   ]
  },
  {
   "cell_type": "markdown",
   "id": "acd89ec7-4664-4e42-8b62-bb70ecdde117",
   "metadata": {},
   "source": [
    "## Graphing our data"
   ]
  },
  {
   "cell_type": "code",
   "execution_count": null,
   "id": "500ad729-3c07-4721-9a45-12415c41d821",
   "metadata": {},
   "outputs": [],
   "source": [
    "# Let's use plot() to view a line graph of our Close Series."
   ]
  },
  {
   "cell_type": "code",
   "execution_count": null,
   "id": "23901965-900f-47cc-9914-87b8a3dd07c7",
   "metadata": {},
   "outputs": [],
   "source": [
    "# Let's plot a line graph of goog_df_from_2020_split_sorted"
   ]
  },
  {
   "cell_type": "code",
   "execution_count": null,
   "id": "88d6c027-5c13-4a9a-b950-ae19df31fc2a",
   "metadata": {},
   "outputs": [],
   "source": [
    "# Let's plot a historical graph of goog_df_from_2020_split_sorted"
   ]
  },
  {
   "cell_type": "code",
   "execution_count": null,
   "id": "c69adaa0-20bb-42e4-953b-5f5039b066c1",
   "metadata": {},
   "outputs": [],
   "source": [
    "# Let's check in on that `goog_df_from_2020_split_sorted` variable we created earlier, and examine it with a `box` plot."
   ]
  },
  {
   "cell_type": "code",
   "execution_count": null,
   "id": "c0c86bac-1c2e-45ac-9f9f-78db28be6fa2",
   "metadata": {},
   "outputs": [],
   "source": [
    "# Let's confirm these values with exact number figures."
   ]
  },
  {
   "cell_type": "code",
   "execution_count": null,
   "id": "b6576b87-4cd5-4929-8bca-d2df7aa87b7a",
   "metadata": {},
   "outputs": [],
   "source": [
    "# Let's read our CSV file for ADBE!\n",
    "adbe_csv_path = \n",
    "adbe_df = \n",
    "\n",
    "# Let's just examine stock prices from 2020 onward.\n",
    "\n",
    "\n",
    "# How many NaN values do we count across this DataFrame?\n"
   ]
  },
  {
   "cell_type": "code",
   "execution_count": null,
   "id": "3879196b-0475-4e64-b32a-93b8687c8117",
   "metadata": {},
   "outputs": [],
   "source": [
    "# Let's append the same additional columns we created for GOOG."
   ]
  },
  {
   "cell_type": "code",
   "execution_count": null,
   "id": "9cf02f01-80cd-4656-9a18-5ac71a3ce5fa",
   "metadata": {},
   "outputs": [],
   "source": [
    "# Let's plot these two line graphs together."
   ]
  },
  {
   "cell_type": "code",
   "execution_count": null,
   "id": "ab878274-b360-4236-9be3-84c61f4bcb30",
   "metadata": {},
   "outputs": [],
   "source": [
    "# Let's give our graph some labels."
   ]
  },
  {
   "cell_type": "code",
   "execution_count": null,
   "id": "59dd56aa-fac5-49b2-9cd6-4ed5f9f3bd69",
   "metadata": {},
   "outputs": [],
   "source": [
    "# Let's provide greater context with plot's legend, color, label, title and secondary_y arguments, and assign these plots to variables\n",
    "ax_goog = \n",
    "ax_adbe = \n",
    "\n",
    "# Let's use set_ylabel method to add labels on each Y-axis"
   ]
  },
  {
   "cell_type": "code",
   "execution_count": null,
   "id": "b51d1cb0-fe30-47a5-9595-d8539628c5f4",
   "metadata": {},
   "outputs": [],
   "source": [
    "# Question: Which symbol performed better?\n",
    "\n",
    "# Answer: It looks like that `ADBE` may have a slight edge. `ADBE` started out relatively lower in value \n",
    "# by comparison to its current price, relative to what we see in `GOOG`. Indeed, throughout most of 2020,\n",
    "# ADBE strongly outperformed `GOOG` in relative terms."
   ]
  }
 ],
 "metadata": {
  "kernelspec": {
   "display_name": "Python (dev)",
   "language": "python",
   "name": "dev"
  },
  "language_info": {
   "codemirror_mode": {
    "name": "ipython",
    "version": 3
   },
   "file_extension": ".py",
   "mimetype": "text/x-python",
   "name": "python",
   "nbconvert_exporter": "python",
   "pygments_lexer": "ipython3",
   "version": "3.8.8"
  }
 },
 "nbformat": 4,
 "nbformat_minor": 5
}
